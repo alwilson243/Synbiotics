{
 "metadata": {
  "name": "",
  "signature": "sha256:2d8c780e7f7d3b883eb8b4a43eb2ed9550dcd49839b12e2fdec107611e2f48d1"
 },
 "nbformat": 3,
 "nbformat_minor": 0,
 "worksheets": [
  {
   "cells": [
    {
     "cell_type": "code",
     "collapsed": false,
     "input": [
      "The main problem with this method of mapping is that a cytogenetic location may have lots of different mim ids. So when I say \n",
      "that there are hits inside some cytogenetic location what  Iam "
     ],
     "language": "python",
     "metadata": {},
     "outputs": [
      {
       "ename": "SyntaxError",
       "evalue": "invalid syntax (<ipython-input-1-a205d81b6664>, line 1)",
       "output_type": "pyerr",
       "traceback": [
        "\u001b[0;36m  File \u001b[0;32m\"<ipython-input-1-a205d81b6664>\"\u001b[0;36m, line \u001b[0;32m1\u001b[0m\n\u001b[0;31m    The main problem with this method of mapping is that a cytogenetic location may have lots of different mim ids. So when I say\u001b[0m\n\u001b[0m           ^\u001b[0m\n\u001b[0;31mSyntaxError\u001b[0m\u001b[0;31m:\u001b[0m invalid syntax\n"
       ]
      }
     ],
     "prompt_number": 1
    },
    {
     "cell_type": "code",
     "collapsed": false,
     "input": [
      "import pandas as pd\n",
      "import numpy as np\n",
      "import random\n",
      "import promethease_parsing as pp"
     ],
     "language": "python",
     "metadata": {},
     "outputs": []
    },
    {
     "cell_type": "heading",
     "level": 1,
     "metadata": {},
     "source": [
      "Helper Functions "
     ]
    },
    {
     "cell_type": "code",
     "collapsed": false,
     "input": [
      "def find_interval_select(chrom, pos, chrom_df):\n",
      "    \"\"\"Given a list of a chromosome find the interval where the\n",
      "    vcf position is found.\n",
      "    Argument(s):\n",
      "        vcf_pos: The position where the current vcf entry is found.\n",
      "        interval_list: The intervals for the chromosome bands.\n",
      "    \n",
      "    Return(s):\n",
      "        Tuple with the interval in which the vcf position is found.\n",
      "    \"\"\"\n",
      "    \n",
      "    return chrom_df[(chrom_df[\"chrom\"] == chrom) &\\\n",
      "                (chrom_df[\"lower\"] <= pos) &\\\n",
      "                (chrom_df[\"upper\"] >= pos)]"
     ],
     "language": "python",
     "metadata": {},
     "outputs": []
    },
    {
     "cell_type": "code",
     "collapsed": false,
     "input": [
      "def find_all_intervals(vcf_df, chrom_df):\n",
      "    \"\"\"Given a vcf_df with positions finds all corresponding\n",
      "        intervals and cytogenetic locations.\n",
      "    Argument(s):\n",
      "        vcf_df: Contains position that need mapping.\n",
      "        chrom_df: Contain chromosome intervals mapped to \n",
      "                  cytogenetic locations.\n",
      "    Return(s):\n",
      "        DataFrame containing the vcf with the interval and cytogenetic \n",
      "        location. \n",
      "    \"\"\"\n",
      "  \n",
      "    count = 0\n",
      "    vcf_position_list = list()\n",
      "    \n",
      "    for item in vcf_df.iterrows():\n",
      "        count += 1\n",
      "        interval_df = find_interval_select(item[0], item[1][\"pos\"], chrom_df)\n",
      "        vcf_position_df = pd.DataFrame(item[1]).transpose()\n",
      "        vcf_position_df.reset_index(inplace = True)        \n",
      "        vcf_position_list.append(interval_df.join(vcf_position_df))\n",
      "        \n",
      "    all_intervals_df = pd.concat(vcf_position_list)\n",
      "    return all_intervals_df"
     ],
     "language": "python",
     "metadata": {},
     "outputs": []
    },
    {
     "cell_type": "code",
     "collapsed": false,
     "input": [
      "def find_interval_select2(chrom, lower, upper, vcf_df):\n",
      "    \"\"\"Given a list of a chromosome find the interval where the\n",
      "    vcf position is found.\n",
      "    Argument(s):\n",
      "        vcf_pos: The position where the current vcf entry is found.\n",
      "        interval_list: The intervals for the chromosome bands.\n",
      "    \n",
      "    Return(s):\n",
      "        Tuple with the interval in which the vcf position is found.\n",
      "    \"\"\"\n",
      "    \n",
      "    return vcf_df[(vcf_df[\"chrom\"] == chrom) &\\\n",
      "                (vcf_df[\"pos\"] <= upper) &\\\n",
      "                (vcf_df[\"pos\"] >= lower)]"
     ],
     "language": "python",
     "metadata": {},
     "outputs": []
    },
    {
     "cell_type": "code",
     "collapsed": false,
     "input": [
      "def find_all_intervals2(vcf_df, cytoband_df):\n",
      "    \"\"\"Given a vcf_df with positions finds all corresponding\n",
      "        intervals and cytogenetic locations.\n",
      "    Argument(s):\n",
      "        vcf_df: Contains position that need mapping.\n",
      "        chrom_df: Contain chromosome intervals mapped to \n",
      "                  cytogenetic locations.\n",
      "    Return(s):\n",
      "        DataFrame containing the vcf with the interval and cytogenetic \n",
      "        location. \n",
      "    \"\"\"\n",
      "  \n",
      "    count = 0\n",
      "    vcf_interval_list = list()\n",
      "    \n",
      "    for row in cytoband_df.iterrows():\n",
      "        count += 1\n",
      "        if count > 1000:\n",
      "            break\n",
      "            \n",
      "        interval_df = find_interval_select2(row[1][\"chrom\"], row[1][\"lower\"], row[1][\"upper\"], vcf_df)\n",
      "        vcf_position_df = pd.DataFrame(row[1]).transpose()\n",
      "        vcf_position_df[\"cyto_hits\"] = len(interval_df)        \n",
      "        vcf_interval_list.append(vcf_position_df)\n",
      "        \n",
      "    all_intervals_df = pd.concat(vcf_interval_list)\n",
      "    return all_intervals_df"
     ],
     "language": "python",
     "metadata": {},
     "outputs": []
    },
    {
     "cell_type": "heading",
     "level": 1,
     "metadata": {},
     "source": [
      "The VCF File"
     ]
    },
    {
     "cell_type": "heading",
     "level": 6,
     "metadata": {},
     "source": [
      "Opening the vcf file into a dataframe and cleaning it up. A copy was made in case the original information would not be \n",
      "since it takes forever to read in a new vcf dataframe from the 17E.txt. "
     ]
    },
    {
     "cell_type": "code",
     "collapsed": false,
     "input": [
      "vcf_position_df = pd.DataFrame.from_csv(\"17E.vcf\", sep = \"\\t\")"
     ],
     "language": "python",
     "metadata": {},
     "outputs": []
    },
    {
     "cell_type": "code",
     "collapsed": false,
     "input": [
      "vcf_position_df = vcf_position_df.iloc[1:]"
     ],
     "language": "python",
     "metadata": {},
     "outputs": []
    },
    {
     "cell_type": "code",
     "collapsed": false,
     "input": [
      "vcf_copy_df = vcf_position_df.copy()"
     ],
     "language": "python",
     "metadata": {},
     "outputs": []
    },
    {
     "cell_type": "code",
     "collapsed": false,
     "input": [
      "vcf_copy_df.drop(\"Unnamed: 9\", inplace = True, axis = 1)"
     ],
     "language": "python",
     "metadata": {},
     "outputs": []
    },
    {
     "cell_type": "code",
     "collapsed": false,
     "input": [
      "vcf_copy_df.reset_index(inplace = True)"
     ],
     "language": "python",
     "metadata": {},
     "outputs": []
    },
    {
     "cell_type": "code",
     "collapsed": false,
     "input": [
      "vcf_copy_df[\"ID\"] = vcf_copy_df[\"ID\"].map(lambda x: x.replace(\"rs\", \"\"))"
     ],
     "language": "python",
     "metadata": {},
     "outputs": []
    },
    {
     "cell_type": "code",
     "collapsed": false,
     "input": [
      "vcf_copy_df = vcf_copy_df[vcf_copy_df[\"ID\"] != \".\"]"
     ],
     "language": "python",
     "metadata": {},
     "outputs": []
    },
    {
     "cell_type": "code",
     "collapsed": false,
     "input": [
      "vcf_copy_df = vcf_copy_df[[\"#CHROM\", \"POS\", \"ID\", \"REF\", \"ALT\"]]"
     ],
     "language": "python",
     "metadata": {},
     "outputs": []
    },
    {
     "cell_type": "code",
     "collapsed": false,
     "input": [
      "vcf_copy_df.columns = [\"chrom\", \"pos\", \"id\", \"ref\", \"alt\"]"
     ],
     "language": "python",
     "metadata": {},
     "outputs": []
    },
    {
     "cell_type": "code",
     "collapsed": false,
     "input": [
      "vcf_copy_df"
     ],
     "language": "python",
     "metadata": {},
     "outputs": [
      {
       "ename": "NameError",
       "evalue": "name 'vcf_copy_df' is not defined",
       "output_type": "pyerr",
       "traceback": [
        "\u001b[0;31m---------------------------------------------------------------------------\u001b[0m\n\u001b[0;31mNameError\u001b[0m                                 Traceback (most recent call last)",
        "\u001b[0;32m<ipython-input-2-05ed77b0691e>\u001b[0m in \u001b[0;36m<module>\u001b[0;34m()\u001b[0m\n\u001b[0;32m----> 1\u001b[0;31m \u001b[0mvcf_copy_df\u001b[0m\u001b[0;34m\u001b[0m\u001b[0m\n\u001b[0m",
        "\u001b[0;31mNameError\u001b[0m: name 'vcf_copy_df' is not defined"
       ]
      }
     ],
     "prompt_number": 2
    },
    {
     "cell_type": "heading",
     "level": 1,
     "metadata": {},
     "source": [
      "The CytoBand File"
     ]
    },
    {
     "cell_type": "heading",
     "level": 6,
     "metadata": {},
     "source": [
      "Opening the cytoBand.txt file that belong from the HG19 and placing the contents into a dataframe. The data is cleaned up for \n",
      "merging between the cytoband_df and vcf_df. "
     ]
    },
    {
     "cell_type": "code",
     "collapsed": false,
     "input": [
      "cytoband_df = pd.DataFrame.from_csv(\"cytoBand.txt\", sep = \"\\t\", header = -1)"
     ],
     "language": "python",
     "metadata": {},
     "outputs": []
    },
    {
     "cell_type": "code",
     "collapsed": false,
     "input": [
      "cytoband_df = cytoband_df[[1,2,3]]"
     ],
     "language": "python",
     "metadata": {},
     "outputs": []
    },
    {
     "cell_type": "code",
     "collapsed": false,
     "input": [
      "cytoband_df = cytoband_df.reset_index()"
     ],
     "language": "python",
     "metadata": {},
     "outputs": []
    },
    {
     "cell_type": "code",
     "collapsed": false,
     "input": [
      "cytoband_df.columns = [\"chrom\", \"lower\", \"upper\", \"cyto\"]"
     ],
     "language": "python",
     "metadata": {},
     "outputs": []
    },
    {
     "cell_type": "code",
     "collapsed": false,
     "input": [
      "cytoband_df[\"chrom\"] = cytoband_df[\"chrom\"].map(lambda x: x.replace(\"chr\", \"\"))"
     ],
     "language": "python",
     "metadata": {},
     "outputs": []
    },
    {
     "cell_type": "heading",
     "level": 1,
     "metadata": {},
     "source": [
      "The GeneMap File"
     ]
    },
    {
     "cell_type": "heading",
     "level": 6,
     "metadata": {},
     "source": [
      "Opening the genemap file and cleaning up the dataframe for data that maps between the cytogenetic location and the omim id. \n",
      "A merge is done between the dataframe from the first merge and this information. "
     ]
    },
    {
     "cell_type": "code",
     "collapsed": false,
     "input": [
      "genemap_df = pd.DataFrame.from_csv(\"genemap\", sep = \"|\", header = -1,\\\n",
      "                                   index_col = -1)\n",
      "genemap_df.columns = [\"num\", \"month\", \"day\", \"year\", \"cyto\", \"geneSym\",\\\n",
      "                      \"geneStatus\", \"title\", \"title_cont\", \"mimNum\", \"comments\",\\\n",
      "                      \"comments_cont\",\"disorders\", \"disorders_cont\",\\\n",
      "                      \"disorders_cont2\", \"mouseCorrelate\", \"reference\"]\n",
      "genemap_df = genemap_df[[\"cyto\", \"mimNum\", \"geneSym\", \"disorders\", \"disorders_cont\", \"disorders_cont2\"]]\n",
      "genemap_df.reset_index(inplace = True)\n",
      "genemap_df.dropna(subset = [\"mimNum\"], inplace = True)\n",
      "genemap_df = genemap_df[[\"cyto\", \"mimNum\", \"geneSym\", \"disorders\", \"disorders_cont\", \"disorders_cont2\"]]"
     ],
     "language": "python",
     "metadata": {},
     "outputs": [
      {
       "ename": "NameError",
       "evalue": "name 'pd' is not defined",
       "output_type": "pyerr",
       "traceback": [
        "\u001b[0;31m---------------------------------------------------------------------------\u001b[0m\n\u001b[0;31mNameError\u001b[0m                                 Traceback (most recent call last)",
        "\u001b[0;32m<ipython-input-3-a018714c94a7>\u001b[0m in \u001b[0;36m<module>\u001b[0;34m()\u001b[0m\n\u001b[0;32m----> 1\u001b[0;31m \u001b[0mgenemap_df\u001b[0m \u001b[0;34m=\u001b[0m \u001b[0mpd\u001b[0m\u001b[0;34m.\u001b[0m\u001b[0mDataFrame\u001b[0m\u001b[0;34m.\u001b[0m\u001b[0mfrom_csv\u001b[0m\u001b[0;34m(\u001b[0m\u001b[0;34m\"genemap\"\u001b[0m\u001b[0;34m,\u001b[0m \u001b[0msep\u001b[0m \u001b[0;34m=\u001b[0m \u001b[0;34m\"|\"\u001b[0m\u001b[0;34m,\u001b[0m \u001b[0mheader\u001b[0m \u001b[0;34m=\u001b[0m \u001b[0;34m-\u001b[0m\u001b[0;36m1\u001b[0m\u001b[0;34m,\u001b[0m                                   \u001b[0mindex_col\u001b[0m \u001b[0;34m=\u001b[0m \u001b[0;34m-\u001b[0m\u001b[0;36m1\u001b[0m\u001b[0;34m)\u001b[0m\u001b[0;34m\u001b[0m\u001b[0m\n\u001b[0m\u001b[1;32m      2\u001b[0m \u001b[0mgenemap_df\u001b[0m\u001b[0;34m.\u001b[0m\u001b[0mcolumns\u001b[0m \u001b[0;34m=\u001b[0m \u001b[0;34m[\u001b[0m\u001b[0;34m\"num\"\u001b[0m\u001b[0;34m,\u001b[0m \u001b[0;34m\"month\"\u001b[0m\u001b[0;34m,\u001b[0m \u001b[0;34m\"day\"\u001b[0m\u001b[0;34m,\u001b[0m \u001b[0;34m\"year\"\u001b[0m\u001b[0;34m,\u001b[0m \u001b[0;34m\"cyto\"\u001b[0m\u001b[0;34m,\u001b[0m \u001b[0;34m\"geneSym\"\u001b[0m\u001b[0;34m,\u001b[0m                      \u001b[0;34m\"geneStatus\"\u001b[0m\u001b[0;34m,\u001b[0m \u001b[0;34m\"title\"\u001b[0m\u001b[0;34m,\u001b[0m \u001b[0;34m\"title_cont\"\u001b[0m\u001b[0;34m,\u001b[0m \u001b[0;34m\"mimNum\"\u001b[0m\u001b[0;34m,\u001b[0m \u001b[0;34m\"comments\"\u001b[0m\u001b[0;34m,\u001b[0m                      \u001b[0;34m\"comments_cont\"\u001b[0m\u001b[0;34m,\u001b[0m\u001b[0;34m\"disorders\"\u001b[0m\u001b[0;34m,\u001b[0m \u001b[0;34m\"disorders_cont\"\u001b[0m\u001b[0;34m,\u001b[0m                      \u001b[0;34m\"disorders_cont2\"\u001b[0m\u001b[0;34m,\u001b[0m \u001b[0;34m\"mouseCorrelate\"\u001b[0m\u001b[0;34m,\u001b[0m \u001b[0;34m\"reference\"\u001b[0m\u001b[0;34m]\u001b[0m\u001b[0;34m\u001b[0m\u001b[0m\n\u001b[1;32m      3\u001b[0m \u001b[0mgenemap_df\u001b[0m \u001b[0;34m=\u001b[0m \u001b[0mgenemap_df\u001b[0m\u001b[0;34m[\u001b[0m\u001b[0;34m[\u001b[0m\u001b[0;34m\"cyto\"\u001b[0m\u001b[0;34m,\u001b[0m \u001b[0;34m\"mimNum\"\u001b[0m\u001b[0;34m,\u001b[0m \u001b[0;34m\"geneSym\"\u001b[0m\u001b[0;34m,\u001b[0m \u001b[0;34m\"disorders\"\u001b[0m\u001b[0;34m,\u001b[0m \u001b[0;34m\"disorders_cont\"\u001b[0m\u001b[0;34m,\u001b[0m \u001b[0;34m\"disorders_cont2\"\u001b[0m\u001b[0;34m]\u001b[0m\u001b[0;34m]\u001b[0m\u001b[0;34m\u001b[0m\u001b[0m\n\u001b[1;32m      4\u001b[0m \u001b[0mgenemap_df\u001b[0m\u001b[0;34m.\u001b[0m\u001b[0mreset_index\u001b[0m\u001b[0;34m(\u001b[0m\u001b[0minplace\u001b[0m \u001b[0;34m=\u001b[0m \u001b[0mTrue\u001b[0m\u001b[0;34m)\u001b[0m\u001b[0;34m\u001b[0m\u001b[0m\n\u001b[1;32m      5\u001b[0m \u001b[0mgenemap_df\u001b[0m\u001b[0;34m.\u001b[0m\u001b[0mdropna\u001b[0m\u001b[0;34m(\u001b[0m\u001b[0msubset\u001b[0m \u001b[0;34m=\u001b[0m \u001b[0;34m[\u001b[0m\u001b[0;34m\"mimNum\"\u001b[0m\u001b[0;34m]\u001b[0m\u001b[0;34m,\u001b[0m \u001b[0minplace\u001b[0m \u001b[0;34m=\u001b[0m \u001b[0mTrue\u001b[0m\u001b[0;34m)\u001b[0m\u001b[0;34m\u001b[0m\u001b[0m\n",
        "\u001b[0;31mNameError\u001b[0m: name 'pd' is not defined"
       ]
      }
     ],
     "prompt_number": 3
    },
    {
     "cell_type": "code",
     "collapsed": false,
     "input": [
      "genemap_df[\"chrom\"] = genemap_df[\"cyto\"].map(lambda x: x[0])"
     ],
     "language": "python",
     "metadata": {},
     "outputs": []
    },
    {
     "cell_type": "code",
     "collapsed": false,
     "input": [
      "genemap_df[\"cyto\"] = genemap_df[\"cyto\"].map(lambda x: x[1:])"
     ],
     "language": "python",
     "metadata": {},
     "outputs": []
    },
    {
     "cell_type": "code",
     "collapsed": false,
     "input": [
      "genemap_df[\"cyto\"] = genemap_df[\"cyto\"].map(lambda x: x.replace(\"ter\", \"\"))"
     ],
     "language": "python",
     "metadata": {},
     "outputs": []
    },
    {
     "cell_type": "code",
     "collapsed": false,
     "input": [
      "genemap_df[genemap_df[\"disorders\"].notnull()]"
     ],
     "language": "python",
     "metadata": {},
     "outputs": []
    },
    {
     "cell_type": "heading",
     "level": 1,
     "metadata": {},
     "source": [
      "The OMIM.txt File"
     ]
    },
    {
     "cell_type": "heading",
     "level": 6,
     "metadata": {},
     "source": [
      "Obtaining the omim dataframe containing information on omim id and the record information"
     ]
    },
    {
     "cell_type": "code",
     "collapsed": false,
     "input": [
      "omim_dict = pp.create_omim_dict()\n",
      "omim_df = pp.create_omim_df(omim_dict)"
     ],
     "language": "python",
     "metadata": {},
     "outputs": []
    },
    {
     "cell_type": "heading",
     "level": 1,
     "metadata": {},
     "source": [
      "1st Merge:"
     ]
    },
    {
     "cell_type": "heading",
     "level": 3,
     "metadata": {},
     "source": [
      "|| vcf_df to cytoband_df || positions  to  intervals and cytogenetic locations ||"
     ]
    },
    {
     "cell_type": "code",
     "collapsed": false,
     "input": [
      "vcf_cyto_df = find_all_intervals2(vcf_copy_df, cytoband_df)\n",
      "#vcf_cyto_df.drop(labels = \"index\", inplace = True, axis = 1)\n",
      "vcf_cyto_df.reset_index(inplace = True)"
     ],
     "language": "python",
     "metadata": {},
     "outputs": []
    },
    {
     "cell_type": "code",
     "collapsed": false,
     "input": [
      "vcf_cyto_df"
     ],
     "language": "python",
     "metadata": {},
     "outputs": []
    },
    {
     "cell_type": "code",
     "collapsed": false,
     "input": [
      "genemap_df"
     ],
     "language": "python",
     "metadata": {},
     "outputs": []
    },
    {
     "cell_type": "heading",
     "level": 1,
     "metadata": {},
     "source": [
      "2nd Merge:"
     ]
    },
    {
     "cell_type": "heading",
     "level": 3,
     "metadata": {},
     "source": [
      "|| vcf_cyto_df to genemap || cytogenetic locations to mim id ||"
     ]
    },
    {
     "cell_type": "code",
     "collapsed": false,
     "input": [
      "vcf_cyto_genemap_df = vcf_cyto_df.merge(genemap_df, left_on = [\"chrom\", \"cyto\"], right_on = [\"chrom\", \"cyto\"])"
     ],
     "language": "python",
     "metadata": {},
     "outputs": []
    },
    {
     "cell_type": "code",
     "collapsed": false,
     "input": [
      "vcf_cyto_genemap_df[\"mimNum\"] = vcf_cyto_genemap_df[\"mimNum\"].apply(str)\n",
      "vcf_cyto_genemap_df[\"mimNum\"] = vcf_cyto_genemap_df[\"mimNum\"].apply(lambda x: x.replace(\".0\", \"\"))"
     ],
     "language": "python",
     "metadata": {},
     "outputs": []
    },
    {
     "cell_type": "code",
     "collapsed": false,
     "input": [
      "vcf_cyto_genemap_df"
     ],
     "language": "python",
     "metadata": {},
     "outputs": []
    },
    {
     "cell_type": "heading",
     "level": 1,
     "metadata": {},
     "source": [
      "3rd Merge: "
     ]
    },
    {
     "cell_type": "heading",
     "level": 3,
     "metadata": {},
     "source": [
      "|| vcf_cyto_genemap_df to omim.txt || mim id to omim record ||"
     ]
    },
    {
     "cell_type": "code",
     "collapsed": false,
     "input": [
      "vcf_cyto_genemap_omim_df = vcf_cyto_genemap_df.merge(omim_df, left_on = \"mimNum\", right_on = \"mim_id\")"
     ],
     "language": "python",
     "metadata": {},
     "outputs": []
    },
    {
     "cell_type": "code",
     "collapsed": false,
     "input": [
      "vcf_cyto_genemap_omim_df[vcf_cyto_genemap_omim_df[\"cyto\"] == \"p36.33\"])"
     ],
     "language": "python",
     "metadata": {},
     "outputs": []
    },
    {
     "cell_type": "code",
     "collapsed": false,
     "input": [
      "vcf_cyto_genemap_omim_df"
     ],
     "language": "python",
     "metadata": {},
     "outputs": []
    },
    {
     "cell_type": "code",
     "collapsed": false,
     "input": [
      "group_by_cyto = vcf_cyto_genemap_omim_df.groupby(by = [\"chrom\", \"lower\", \"upper\"])"
     ],
     "language": "python",
     "metadata": {},
     "outputs": []
    },
    {
     "cell_type": "code",
     "collapsed": false,
     "input": [
      "group_by_cyto.count()"
     ],
     "language": "python",
     "metadata": {},
     "outputs": []
    },
    {
     "cell_type": "code",
     "collapsed": false,
     "input": [
      "group_by_cyto"
     ],
     "language": "python",
     "metadata": {},
     "outputs": []
    },
    {
     "cell_type": "code",
     "collapsed": false,
     "input": [
      "for grp, data in group_by_cyto:\n",
      "    print grp\n",
      "    print data\n",
      "    print \"*\" * 50 *2\n",
      "    print"
     ],
     "language": "python",
     "metadata": {},
     "outputs": []
    },
    {
     "cell_type": "code",
     "collapsed": false,
     "input": [
      "for item in enumerate(vcf_cyto_genemap_omim_df.columns):\n",
      "    print item"
     ],
     "language": "python",
     "metadata": {},
     "outputs": []
    },
    {
     "cell_type": "code",
     "collapsed": false,
     "input": [
      "vcf_cyto_genemap_omim_df"
     ],
     "language": "python",
     "metadata": {},
     "outputs": []
    },
    {
     "cell_type": "code",
     "collapsed": false,
     "input": [],
     "language": "python",
     "metadata": {},
     "outputs": []
    },
    {
     "cell_type": "code",
     "collapsed": false,
     "input": [
      "count = 1\n",
      "for i, row in enumerate(vcf_cyto_genemap_omim_df.iterrows()):\n",
      "    \n",
      "    if i > 4:\n",
      "        break\n",
      "        \n",
      "    mim_id = row[1][\"chrom\"]\n",
      "    chrom = row[1][\"chrom\"]\n",
      "    lower = row[1][\"lower\"]\n",
      "    upper = row[1][\"upper\"]\n",
      "    cyto = row[1][\"cyto\"]\n",
      "    cyto_hits = row[1][\"cyto_hits\"]\n",
      "    ti = row[1][\"TI\"]\n",
      "    txt = row[1][\"TX\"]\n",
      "    txt_dict = pp.create_description_dict(txt)\n",
      "    \n",
      "    print \"*\" * 125\n",
      "    \n",
      "    print \"MIM Record: {}\".format(mim_id)\n",
      "    print \"MIM Title: {}\".format(ti)\n",
      "    \n",
      "    #print \"Associated Cytogenetic Locations: {}\".format(rs_ids_format)    \n",
      "    \n",
      "    for field, desc in txt_dict.items():\n",
      "        print field + \":\"\n",
      "        print desc\n",
      "    "
     ],
     "language": "python",
     "metadata": {},
     "outputs": []
    },
    {
     "cell_type": "code",
     "collapsed": false,
     "input": [],
     "language": "python",
     "metadata": {},
     "outputs": []
    }
   ],
   "metadata": {}
  }
 ]
}