{
 "metadata": {
  "name": "",
  "signature": "sha256:b9ca2015d44ec708332db8b36e1b1994a03a7f836812bb5cd63c4cd2eaffffd3"
 },
 "nbformat": 3,
 "nbformat_minor": 0,
 "worksheets": [
  {
   "cells": [
    {
     "cell_type": "code",
     "collapsed": false,
     "input": [
      "import pandas as pd\n",
      "import numpy as np\n",
      "import random\n",
      "import promethease_parsing as pp"
     ],
     "language": "python",
     "metadata": {},
     "outputs": [],
     "prompt_number": 33
    },
    {
     "cell_type": "heading",
     "level": 1,
     "metadata": {},
     "source": [
      "Helper Functions "
     ]
    },
    {
     "cell_type": "code",
     "collapsed": false,
     "input": [
      "def create_genemap_dataframe(genemap_file = \"genemap\"):  \n",
      "    \"\"\"Extracts cytogenetic position and omim id information.\n",
      "        Argument(s):\n",
      "            genemap_file: omim database genemap file\n",
      "        Return(s):\n",
      "            DataFrame with cytogenetic position and omim id information.\n",
      "    \"\"\"\n",
      "    \n",
      "    genemap_df = pd.DataFrame.from_csv(genemap_file, sep = \"|\", header = -1,\\\n",
      "                                       index_col = -1)\n",
      "    genemap_df.columns = [\"num\", \"month\", \"day\", \"year\", \"cyto\", \"geneSym\",\\\n",
      "                          \"geneStatus\", \"title\", \"title_cont\", \"mimNum\", \"comments\",\\\n",
      "                          \"comments_cont\",\"disorders\", \"disorders_cont\",\\\n",
      "                          \"disorders_cont2\", \"mouseCorrelate\", \"reference\"]\n",
      "    genemap_df = genemap_df[[\"cyto\", \"mimNum\"]]\n",
      "    genemap_df.reset_index(inplace = True)\n",
      "    genemap_df = genemap_df[[\"cyto\", \"mimNum\"]]\n",
      "    return genemap_df\n"
     ],
     "language": "python",
     "metadata": {},
     "outputs": [],
     "prompt_number": 28
    },
    {
     "cell_type": "code",
     "collapsed": false,
     "input": [
      "def find_interval_select(chrom, pos, chrom_df):\n",
      "    \"\"\"Given a list of a chromosome find the interval where the\n",
      "    vcf position is found.\n",
      "    Argument(s):\n",
      "        vcf_pos: The position where the current vcf entry is found.\n",
      "        interval_list: The intervals for the chromosome bands.\n",
      "    \n",
      "    Return(s):\n",
      "        Tuple with the interval in which the vcf position is found.\n",
      "    \"\"\"\n",
      "    \n",
      "    return chrom_df[(chrom_df[\"chrom\"] == chrom) &\\\n",
      "                (chrom_df[\"lower\"] <= pos) &\\\n",
      "                (chrom_df[\"upper\"] >= pos)]"
     ],
     "language": "python",
     "metadata": {},
     "outputs": [],
     "prompt_number": 29
    },
    {
     "cell_type": "code",
     "collapsed": false,
     "input": [
      "def find_all_intervals(vcf_df, chrom_df):\n",
      "    \"\"\"Given a vcf_df with positions finds all corresponding\n",
      "        intervals and cytogenetic locations.\n",
      "    Argument(s):\n",
      "        vcf_df: Contains position that need mapping.\n",
      "        chrom_df: Contain chromosome intervals mapped to \n",
      "                  cytogenetic locations.\n",
      "    Return(s):\n",
      "        DataFrame containing the vcf with the interval and cytogenetic \n",
      "        location. \n",
      "    \"\"\"\n",
      "  \n",
      "    count = 0\n",
      "    vcf_position_list = list()\n",
      "    \n",
      "    for item in vcf_df.iterrows():\n",
      "        count += 1\n",
      "        interval_df = find_interval_select(item[0], item[1][\"pos\"], chrom_df)\n",
      "        vcf_position_df = pd.DataFrame(item[1]).transpose()\n",
      "        vcf_position_df.reset_index(inplace = True)        \n",
      "        vcf_position_list.append(interval_df.join(vcf_position_df))\n",
      "        \n",
      "    all_intervals_df = pd.concat(vcf_position_list)\n",
      "    return all_intervals_df"
     ],
     "language": "python",
     "metadata": {},
     "outputs": [],
     "prompt_number": 30
    },
    {
     "cell_type": "heading",
     "level": 1,
     "metadata": {},
     "source": [
      "The VCF File"
     ]
    },
    {
     "cell_type": "heading",
     "level": 6,
     "metadata": {},
     "source": [
      "Opening the vcf file into a dataframe and cleaning it up. A copy was made in case the original information would not be \n",
      "since it takes forever to read in a new vcf dataframe from the 17E.txt. "
     ]
    },
    {
     "cell_type": "code",
     "collapsed": false,
     "input": [
      "vcf_position_df = pd.DataFrame.from_csv(\"17E.vcf\", sep = \"\\t\")"
     ],
     "language": "python",
     "metadata": {},
     "outputs": [
      {
       "output_type": "stream",
       "stream": "stderr",
       "text": [
        "/Users/joaquinreyna/anaconda/lib/python2.7/site-packages/pandas/io/parsers.py:1139: DtypeWarning: Columns (0) have mixed types. Specify dtype option on import or set low_memory=False.\n",
        "  data = self._reader.read(nrows)\n"
       ]
      }
     ],
     "prompt_number": 8
    },
    {
     "cell_type": "code",
     "collapsed": false,
     "input": [
      "vcf_position_df = vcf_position_df.iloc[1:]"
     ],
     "language": "python",
     "metadata": {},
     "outputs": [],
     "prompt_number": 9
    },
    {
     "cell_type": "code",
     "collapsed": false,
     "input": [
      "vcf_copy_df = vcf_position_df.copy()"
     ],
     "language": "python",
     "metadata": {},
     "outputs": [],
     "prompt_number": 10
    },
    {
     "cell_type": "code",
     "collapsed": false,
     "input": [
      "vcf_copy_df.drop(\"Unnamed: 9\", inplace = True, axis = 1)"
     ],
     "language": "python",
     "metadata": {},
     "outputs": [],
     "prompt_number": 11
    },
    {
     "cell_type": "code",
     "collapsed": false,
     "input": [
      "vcf_copy_df.reset_index(inplace = True)"
     ],
     "language": "python",
     "metadata": {},
     "outputs": [],
     "prompt_number": 12
    },
    {
     "cell_type": "code",
     "collapsed": false,
     "input": [
      "vcf_copy_df[\"ID\"] = vcf_copy_df[\"ID\"].map(lambda x: x.replace(\"rs\", \"\"))"
     ],
     "language": "python",
     "metadata": {},
     "outputs": [],
     "prompt_number": 13
    },
    {
     "cell_type": "code",
     "collapsed": false,
     "input": [
      "vcf_copy_df = vcf_copy_df[vcf_copy_df[\"ID\"] != \".\"]"
     ],
     "language": "python",
     "metadata": {},
     "outputs": [],
     "prompt_number": 14
    },
    {
     "cell_type": "code",
     "collapsed": false,
     "input": [
      "vcf_copy_df = vcf_copy_df[[\"POS\", \"ID\", \"REF\", \"ALT\"]]"
     ],
     "language": "python",
     "metadata": {},
     "outputs": [],
     "prompt_number": 15
    },
    {
     "cell_type": "code",
     "collapsed": false,
     "input": [
      "vcf_copy_df.columns = [\"pos\", \"id\", \"ref\", \"alt\"]"
     ],
     "language": "python",
     "metadata": {},
     "outputs": [],
     "prompt_number": 16
    },
    {
     "cell_type": "heading",
     "level": 1,
     "metadata": {},
     "source": [
      "The CytoBand File"
     ]
    },
    {
     "cell_type": "heading",
     "level": 6,
     "metadata": {},
     "source": [
      "Opening the cytoBand.txt file that belong from the HG19 and placing the contents into a dataframe. The data is cleaned up for \n",
      "merging between the cytoband_df and vcf_df. "
     ]
    },
    {
     "cell_type": "code",
     "collapsed": false,
     "input": [
      "cytoband_df = pd.DataFrame.from_csv(\"cytoBand.txt\", sep = \"\\t\", header = -1)"
     ],
     "language": "python",
     "metadata": {},
     "outputs": [],
     "prompt_number": 17
    },
    {
     "cell_type": "code",
     "collapsed": false,
     "input": [
      "cytoband_df = cytoband_df[[1,2,3]]"
     ],
     "language": "python",
     "metadata": {},
     "outputs": [],
     "prompt_number": 18
    },
    {
     "cell_type": "code",
     "collapsed": false,
     "input": [
      "cytoband_df = cytoband_df.reset_index()"
     ],
     "language": "python",
     "metadata": {},
     "outputs": [],
     "prompt_number": 19
    },
    {
     "cell_type": "code",
     "collapsed": false,
     "input": [
      "cytoband_df.columns = [\"chrom\", \"lower\", \"upper\", \"cyto\"]"
     ],
     "language": "python",
     "metadata": {},
     "outputs": [],
     "prompt_number": 20
    },
    {
     "cell_type": "code",
     "collapsed": false,
     "input": [
      "cytoband_df[\"chrom\"] = cytoband_df[\"chrom\"].map(lambda x: x.replace(\"chr\", \"\"))"
     ],
     "language": "python",
     "metadata": {},
     "outputs": [],
     "prompt_number": 21
    },
    {
     "cell_type": "heading",
     "level": 1,
     "metadata": {},
     "source": [
      "The GeneMap File"
     ]
    },
    {
     "cell_type": "heading",
     "level": 6,
     "metadata": {},
     "source": [
      "Opening the genemap file and cleaning up the dataframe for data that maps between the cytogenetic location and the omim id. \n",
      "A merge is done between the dataframe from the first merge and this information. "
     ]
    },
    {
     "cell_type": "code",
     "collapsed": false,
     "input": [
      "genemap_df = create_genemap_dataframe()"
     ],
     "language": "python",
     "metadata": {},
     "outputs": [],
     "prompt_number": 22
    },
    {
     "cell_type": "code",
     "collapsed": false,
     "input": [
      "genemap_df[\"chrom\"] = genemap_df[\"cyto\"].map(lambda x: x[0])"
     ],
     "language": "python",
     "metadata": {},
     "outputs": [],
     "prompt_number": 23
    },
    {
     "cell_type": "code",
     "collapsed": false,
     "input": [
      "genemap_df[\"cyto\"] = genemap_df[\"cyto\"].map(lambda x: x[1:])"
     ],
     "language": "python",
     "metadata": {},
     "outputs": [],
     "prompt_number": 24
    },
    {
     "cell_type": "code",
     "collapsed": false,
     "input": [
      "genemap_df[\"cyto\"] = genemap_df[\"cyto\"].map(lambda x: x.replace(\"ter\", \"\"))"
     ],
     "language": "python",
     "metadata": {},
     "outputs": [],
     "prompt_number": 25
    },
    {
     "cell_type": "heading",
     "level": 1,
     "metadata": {},
     "source": [
      "The OMIM.txt File"
     ]
    },
    {
     "cell_type": "heading",
     "level": 6,
     "metadata": {},
     "source": [
      "Obtaining the omim dataframe containing information on omim id and the record information"
     ]
    },
    {
     "cell_type": "code",
     "collapsed": false,
     "input": [
      "omim_dict = pp.create_omim_dict()\n",
      "omim_df = pp.create_omim_df(omim_dict)"
     ],
     "language": "python",
     "metadata": {},
     "outputs": [],
     "prompt_number": 34
    },
    {
     "cell_type": "heading",
     "level": 1,
     "metadata": {},
     "source": [
      "1st Merge:"
     ]
    },
    {
     "cell_type": "heading",
     "level": 3,
     "metadata": {},
     "source": [
      "|| vcf_df to cytoband_df || positions  to  intervals and cytogenetic locations ||"
     ]
    },
    {
     "cell_type": "code",
     "collapsed": false,
     "input": [
      "vcf_cyto_df = find_all_intervals(vcf_copy_df, cytoband_df)\n",
      "vcf_cyto_df.drop(labels = \"index\", inplace = True, axis = 1)\n",
      "vcf_cyto_df.reset_index(inplace = True)"
     ],
     "language": "python",
     "metadata": {},
     "outputs": [
      {
       "ename": "KeyboardInterrupt",
       "evalue": "",
       "output_type": "pyerr",
       "traceback": [
        "\u001b[0;31m---------------------------------------------------------------------------\u001b[0m\n\u001b[0;31mKeyboardInterrupt\u001b[0m                         Traceback (most recent call last)",
        "\u001b[0;32m<ipython-input-35-7bb52dae60a6>\u001b[0m in \u001b[0;36m<module>\u001b[0;34m()\u001b[0m\n\u001b[0;32m----> 1\u001b[0;31m \u001b[0mvcf_cyto_df\u001b[0m \u001b[0;34m=\u001b[0m \u001b[0mfind_all_intervals\u001b[0m\u001b[0;34m(\u001b[0m\u001b[0mvcf_copy_df\u001b[0m\u001b[0;34m,\u001b[0m \u001b[0mcytoband_df\u001b[0m\u001b[0;34m)\u001b[0m\u001b[0;34m\u001b[0m\u001b[0m\n\u001b[0m\u001b[1;32m      2\u001b[0m \u001b[0mvcf_cyto_df\u001b[0m\u001b[0;34m.\u001b[0m\u001b[0mdrop\u001b[0m\u001b[0;34m(\u001b[0m\u001b[0mlabels\u001b[0m \u001b[0;34m=\u001b[0m \u001b[0;34m\"index\"\u001b[0m\u001b[0;34m,\u001b[0m \u001b[0minplace\u001b[0m \u001b[0;34m=\u001b[0m \u001b[0mTrue\u001b[0m\u001b[0;34m,\u001b[0m \u001b[0maxis\u001b[0m \u001b[0;34m=\u001b[0m \u001b[0;36m1\u001b[0m\u001b[0;34m)\u001b[0m\u001b[0;34m\u001b[0m\u001b[0m\n\u001b[1;32m      3\u001b[0m \u001b[0mvcf_cyto_df\u001b[0m\u001b[0;34m.\u001b[0m\u001b[0mreset_index\u001b[0m\u001b[0;34m(\u001b[0m\u001b[0minplace\u001b[0m \u001b[0;34m=\u001b[0m \u001b[0mTrue\u001b[0m\u001b[0;34m)\u001b[0m\u001b[0;34m\u001b[0m\u001b[0m\n",
        "\u001b[0;32m<ipython-input-30-39f8144d50be>\u001b[0m in \u001b[0;36mfind_all_intervals\u001b[0;34m(vcf_df, chrom_df)\u001b[0m\n\u001b[1;32m     16\u001b[0m     \u001b[0;32mfor\u001b[0m \u001b[0mitem\u001b[0m \u001b[0;32min\u001b[0m \u001b[0mvcf_df\u001b[0m\u001b[0;34m.\u001b[0m\u001b[0miterrows\u001b[0m\u001b[0;34m(\u001b[0m\u001b[0;34m)\u001b[0m\u001b[0;34m:\u001b[0m\u001b[0;34m\u001b[0m\u001b[0m\n\u001b[1;32m     17\u001b[0m         \u001b[0mcount\u001b[0m \u001b[0;34m+=\u001b[0m \u001b[0;36m1\u001b[0m\u001b[0;34m\u001b[0m\u001b[0m\n\u001b[0;32m---> 18\u001b[0;31m         \u001b[0minterval_df\u001b[0m \u001b[0;34m=\u001b[0m \u001b[0mfind_interval_select\u001b[0m\u001b[0;34m(\u001b[0m\u001b[0mitem\u001b[0m\u001b[0;34m[\u001b[0m\u001b[0;36m0\u001b[0m\u001b[0;34m]\u001b[0m\u001b[0;34m,\u001b[0m \u001b[0mitem\u001b[0m\u001b[0;34m[\u001b[0m\u001b[0;36m1\u001b[0m\u001b[0;34m]\u001b[0m\u001b[0;34m[\u001b[0m\u001b[0;34m\"pos\"\u001b[0m\u001b[0;34m]\u001b[0m\u001b[0;34m,\u001b[0m \u001b[0mchrom_df\u001b[0m\u001b[0;34m)\u001b[0m\u001b[0;34m\u001b[0m\u001b[0m\n\u001b[0m\u001b[1;32m     19\u001b[0m         \u001b[0mvcf_position_df\u001b[0m \u001b[0;34m=\u001b[0m \u001b[0mpd\u001b[0m\u001b[0;34m.\u001b[0m\u001b[0mDataFrame\u001b[0m\u001b[0;34m(\u001b[0m\u001b[0mitem\u001b[0m\u001b[0;34m[\u001b[0m\u001b[0;36m1\u001b[0m\u001b[0;34m]\u001b[0m\u001b[0;34m)\u001b[0m\u001b[0;34m.\u001b[0m\u001b[0mtranspose\u001b[0m\u001b[0;34m(\u001b[0m\u001b[0;34m)\u001b[0m\u001b[0;34m\u001b[0m\u001b[0m\n\u001b[1;32m     20\u001b[0m         \u001b[0mvcf_position_df\u001b[0m\u001b[0;34m.\u001b[0m\u001b[0mreset_index\u001b[0m\u001b[0;34m(\u001b[0m\u001b[0minplace\u001b[0m \u001b[0;34m=\u001b[0m \u001b[0mTrue\u001b[0m\u001b[0;34m)\u001b[0m\u001b[0;34m\u001b[0m\u001b[0m\n",
        "\u001b[0;32m<ipython-input-29-5c5c0229641c>\u001b[0m in \u001b[0;36mfind_interval_select\u001b[0;34m(chrom, pos, chrom_df)\u001b[0m\n\u001b[1;32m     10\u001b[0m     \"\"\"\n\u001b[1;32m     11\u001b[0m \u001b[0;34m\u001b[0m\u001b[0m\n\u001b[0;32m---> 12\u001b[0;31m     \u001b[0;32mreturn\u001b[0m \u001b[0mchrom_df\u001b[0m\u001b[0;34m[\u001b[0m\u001b[0;34m(\u001b[0m\u001b[0mchrom_df\u001b[0m\u001b[0;34m[\u001b[0m\u001b[0;34m\"chrom\"\u001b[0m\u001b[0;34m]\u001b[0m \u001b[0;34m==\u001b[0m \u001b[0mchrom\u001b[0m\u001b[0;34m)\u001b[0m \u001b[0;34m&\u001b[0m                \u001b[0;34m(\u001b[0m\u001b[0mchrom_df\u001b[0m\u001b[0;34m[\u001b[0m\u001b[0;34m\"lower\"\u001b[0m\u001b[0;34m]\u001b[0m \u001b[0;34m<=\u001b[0m \u001b[0mpos\u001b[0m\u001b[0;34m)\u001b[0m \u001b[0;34m&\u001b[0m                \u001b[0;34m(\u001b[0m\u001b[0mchrom_df\u001b[0m\u001b[0;34m[\u001b[0m\u001b[0;34m\"upper\"\u001b[0m\u001b[0;34m]\u001b[0m \u001b[0;34m>=\u001b[0m \u001b[0mpos\u001b[0m\u001b[0;34m)\u001b[0m\u001b[0;34m]\u001b[0m\u001b[0;34m\u001b[0m\u001b[0m\n\u001b[0m",
        "\u001b[0;32m/Users/joaquinreyna/anaconda/lib/python2.7/site-packages/pandas/core/ops.pyc\u001b[0m in \u001b[0;36mwrapper\u001b[0;34m(self, other)\u001b[0m\n\u001b[1;32m    570\u001b[0m \u001b[0;34m\u001b[0m\u001b[0m\n\u001b[1;32m    571\u001b[0m             \u001b[0;31m# scalars\u001b[0m\u001b[0;34m\u001b[0m\u001b[0;34m\u001b[0m\u001b[0m\n\u001b[0;32m--> 572\u001b[0;31m             \u001b[0mres\u001b[0m \u001b[0;34m=\u001b[0m \u001b[0mna_op\u001b[0m\u001b[0;34m(\u001b[0m\u001b[0mvalues\u001b[0m\u001b[0;34m,\u001b[0m \u001b[0mother\u001b[0m\u001b[0;34m)\u001b[0m\u001b[0;34m\u001b[0m\u001b[0m\n\u001b[0m\u001b[1;32m    573\u001b[0m             \u001b[0;32mif\u001b[0m \u001b[0mnp\u001b[0m\u001b[0;34m.\u001b[0m\u001b[0misscalar\u001b[0m\u001b[0;34m(\u001b[0m\u001b[0mres\u001b[0m\u001b[0;34m)\u001b[0m\u001b[0;34m:\u001b[0m\u001b[0;34m\u001b[0m\u001b[0m\n\u001b[1;32m    574\u001b[0m                 raise TypeError('Could not compare %s type with Series'\n",
        "\u001b[0;32m/Users/joaquinreyna/anaconda/lib/python2.7/site-packages/pandas/core/ops.pyc\u001b[0m in \u001b[0;36mna_op\u001b[0;34m(x, y)\u001b[0m\n\u001b[1;32m    533\u001b[0m                     \u001b[0mresult\u001b[0m \u001b[0;34m=\u001b[0m \u001b[0mlib\u001b[0m\u001b[0;34m.\u001b[0m\u001b[0mvec_compare\u001b[0m\u001b[0;34m(\u001b[0m\u001b[0mx\u001b[0m\u001b[0;34m,\u001b[0m \u001b[0my\u001b[0m\u001b[0;34m,\u001b[0m \u001b[0mop\u001b[0m\u001b[0;34m)\u001b[0m\u001b[0;34m\u001b[0m\u001b[0m\n\u001b[1;32m    534\u001b[0m             \u001b[0;32melse\u001b[0m\u001b[0;34m:\u001b[0m\u001b[0;34m\u001b[0m\u001b[0m\n\u001b[0;32m--> 535\u001b[0;31m                 \u001b[0mresult\u001b[0m \u001b[0;34m=\u001b[0m \u001b[0mlib\u001b[0m\u001b[0;34m.\u001b[0m\u001b[0mscalar_compare\u001b[0m\u001b[0;34m(\u001b[0m\u001b[0mx\u001b[0m\u001b[0;34m,\u001b[0m \u001b[0my\u001b[0m\u001b[0;34m,\u001b[0m \u001b[0mop\u001b[0m\u001b[0;34m)\u001b[0m\u001b[0;34m\u001b[0m\u001b[0m\n\u001b[0m\u001b[1;32m    536\u001b[0m         \u001b[0;32melse\u001b[0m\u001b[0;34m:\u001b[0m\u001b[0;34m\u001b[0m\u001b[0m\n\u001b[1;32m    537\u001b[0m \u001b[0;34m\u001b[0m\u001b[0m\n",
        "\u001b[0;31mKeyboardInterrupt\u001b[0m: "
       ]
      }
     ],
     "prompt_number": 35
    },
    {
     "cell_type": "code",
     "collapsed": false,
     "input": [
      "vcf_cyto_df = inters.drop_duplicates(subset = \"cyto\")"
     ],
     "language": "python",
     "metadata": {},
     "outputs": []
    },
    {
     "cell_type": "heading",
     "level": 1,
     "metadata": {},
     "source": [
      "2nd Merge:"
     ]
    },
    {
     "cell_type": "heading",
     "level": 3,
     "metadata": {},
     "source": [
      "|| vcf_cyto_df to genemap || cytogenetic locations to mim id ||"
     ]
    },
    {
     "cell_type": "code",
     "collapsed": false,
     "input": [
      "vcf_cyto_genemap_df = vcf_cyto_df.merge(genemap_df, left_on = [\"chrom\", \"cyto\"], right_on = [\"chrom\", \"cyto\"])"
     ],
     "language": "python",
     "metadata": {},
     "outputs": []
    },
    {
     "cell_type": "heading",
     "level": 1,
     "metadata": {},
     "source": [
      "3rd Merge: "
     ]
    },
    {
     "cell_type": "heading",
     "level": 3,
     "metadata": {},
     "source": [
      "|| vcf_cyto_genemap_df to omim.txt || mim id to omim record ||"
     ]
    },
    {
     "cell_type": "code",
     "collapsed": false,
     "input": [
      "vcf_cyto_genemap_omim_df = vcf_cyto_genemap_df.merge(omim_df, left_on = \"mimNum\", right_on = \"mim_id\")"
     ],
     "language": "python",
     "metadata": {},
     "outputs": []
    },
    {
     "cell_type": "code",
     "collapsed": false,
     "input": [
      "vcf_cyto_genemap_omim_df"
     ],
     "language": "python",
     "metadata": {},
     "outputs": []
    },
    {
     "cell_type": "code",
     "collapsed": false,
     "input": [],
     "language": "python",
     "metadata": {},
     "outputs": []
    }
   ],
   "metadata": {}
  }
 ]
}