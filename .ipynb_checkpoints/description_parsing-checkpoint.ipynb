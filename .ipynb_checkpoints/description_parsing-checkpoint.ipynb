{
 "metadata": {
  "name": "",
  "signature": "sha256:8257003357dd62b54973eb68b6e8fd005ee3cc2d6f59479c5756ff0a27888875"
 },
 "nbformat": 3,
 "nbformat_minor": 0,
 "worksheets": [
  {
   "cells": [
    {
     "cell_type": "code",
     "collapsed": false,
     "input": [
      "import pandas as pd"
     ],
     "language": "python",
     "metadata": {},
     "outputs": [],
     "prompt_number": 1
    },
    {
     "cell_type": "code",
     "collapsed": false,
     "input": [
      "def create_description_dict(text):\n",
      "    \"\"\"Fills the information of the omim_txt object. \n",
      "        Argument(s): \n",
      "            text - A string resulting from reading in the omim.txt file.\n",
      "    \"\"\"\n",
      "    descriptions = {}\n",
      "    description = text.split()\n",
      "    word_ls = list()\n",
      "    category = \"\"\n",
      "    prev_category = \"\"\n",
      "    description_fields = [\"DESCRIPTION\", \"CLINICAL FEATURES\", \"INHERITANCE\", \"PATHOGENESIS\",\\\n",
      "                          \"CLONING\", \"GENE FUNCTION\", \"MAPPING\", \"MOLECULAR GENETICS\",\\\n",
      "                          \"GENETICS\", \"POPULATION\", \"NOMENCLATURE\", \"ANIMAL MODEL\", \"MODEL\"]\n",
      "    collecting_fields = [\"DESCRIPTION\", \"CLINICAL FEATURES\", \"GENE FUNCTION\"]\n",
      "\n",
      "    for i, word in enumerate(description):\n",
      "\n",
      "        if i + 1 < len(description):\n",
      "            word_plus = word + \" \" + description[i + 1]\n",
      "\n",
      "        if word in description_fields or word_plus in description_fields:\n",
      "\n",
      "            if word in collecting_fields:\n",
      "                category = word \n",
      "\n",
      "            elif word_plus in collecting_fields:\n",
      "                category = word_plus\n",
      "\n",
      "            if category != prev_category and i != 0:\n",
      "                if prev_category in collecting_fields:\n",
      "                    descriptions[prev_category] = \" \".join(word_ls)\n",
      "                prev_category = category\n",
      "                word_ls = []\n",
      "\n",
      "        else:\n",
      "            word_ls += [word]\n",
      "\n",
      "    if len(word_ls) != 0 and prev_category in collecting_fields:\n",
      "        if prev_category in [\"CLINICAL FEATURES\", \"GENE FUNCTION\"]:\n",
      "            word_ls = word_ls[1:]\n",
      "        descriptions[prev_category] = \" \".join(word_ls)\n",
      "    return descriptions\n",
      " "
     ],
     "language": "python",
     "metadata": {},
     "outputs": [],
     "prompt_number": 44
    }
   ],
   "metadata": {}
  }
 ]
}