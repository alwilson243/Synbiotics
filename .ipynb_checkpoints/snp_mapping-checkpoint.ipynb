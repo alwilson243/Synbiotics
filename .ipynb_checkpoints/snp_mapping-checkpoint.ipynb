{
 "metadata": {
  "name": "",
  "signature": "sha256:9b75f0fb36d2f01456595f279109511df1795f6a2a2f1ce08ec422a5a92d0ccc"
 },
 "nbformat": 3,
 "nbformat_minor": 0,
 "worksheets": [
  {
   "cells": [
    {
     "cell_type": "code",
     "collapsed": false,
     "input": [
      "import pandas as pd\n",
      "import promethease_parsing as pp\n",
      "import operator\n",
      "import math"
     ],
     "language": "python",
     "metadata": {},
     "outputs": [],
     "prompt_number": 25
    },
    {
     "cell_type": "code",
     "collapsed": false,
     "input": [
      "def write_record_file(file_name = \"index.html\"):\n",
      "    file_handle =open(file_name, \"wt\")\n",
      "    file_handle.write(\"<head><link rel='stylesheet' type='text/css' href='theme.css'></head>\")\n",
      "    file_handle.write(\"<h1>Synbiotics Disorder Determiner Diagnostic Tool</h1>\")\n",
      "    file_handle.write(\"<body>\")\n",
      "    file_handle.write(\"<ul>\\n\")\n",
      "    for i, rec in enumerate(vcf_omim_format_df.iterrows()):\n",
      "\n",
      "        if i > 4:\n",
      "            break\n",
      "        file_handle.write(\"<li>\\n\")\n",
      "        file_handle.write(\"<div id='\" + str(i) + \"'>\")\n",
      "        mim_id = rec[1][\"mim_id\"]\n",
      "        ti = rec[1][\"TI\"]\n",
      "        ti = ti.replace(\"*\" + str(mim_id) + \" \", \"\")\n",
      "        ti = ti.replace(\"#\" + str(mim_id) + \" \", \"\")\n",
      "        tx = rec[1][\"TX\"]\n",
      "        #hits = vcf_omim_rs_hits[mim_id]\n",
      "        tx_dict = pp.create_description_dict(tx)\n",
      "        if mim_id in mim_id_grouping:\n",
      "            rs_ids = mim_id_grouping.get_group(mim_id)\n",
      "        else:\n",
      "            rs_ids = []\n",
      "        rs_ids_format = []\n",
      "        genemap_mim_ids = genemap_df[\"mimNum\"].tolist()\n",
      "        curr_record = record(mim_id, rs_ids, ti, tx_dict)\n",
      "        curr_record.write_html(file_handle)\n",
      "        \n",
      "        file_handle.write(\"</li>\\n\")\n",
      "        file_handle.write(\"</div><br>\")\n",
      "    file_handle.write(\"</ul>\\n\")\n",
      "    file_handle.write(\"</body>\")"
     ],
     "language": "python",
     "metadata": {},
     "outputs": [],
     "prompt_number": 84
    },
    {
     "cell_type": "code",
     "collapsed": false,
     "input": [],
     "language": "python",
     "metadata": {},
     "outputs": []
    },
    {
     "cell_type": "code",
     "collapsed": false,
     "input": [
      "class record():\n",
      "    def __init__(self, omim_id, rs_ids, TI, TX):\n",
      "        self.omim_id = omim_id\n",
      "        self.rs_ids = rs_ids\n",
      "        self.TI = TI\n",
      "        self.TX = TX\n",
      "        \n",
      "    def write_html(self, file_handle):\n",
      "        file_handle.write(\"<font size='5'><strong>Title: \" + self.TI + \"</strong></font><br>\")\n",
      "        file_handle.write(\"Omim Record \" + self.omim_id + \"<br>\")\n",
      "        file_handle.write(\"Associated rs_ids: \" + \", \".join(self.rs_ids) + \"<br>\")\n",
      "\n",
      "        \n",
      "        if \"DESCRIPTION\" in self.TX:\n",
      "            file_handle.write(\"Description: \" + self.TX[\"DESCRIPTION\"] + \"<br>\")\n",
      "        if \"CLINICAL FEATURES\" in self.TX:\n",
      "            file_handle.write(\"Clinical Features: \" + self.TX[\"CLINICAL FEATURES\"] + \"<br>\")\n",
      "        if \"GENE FUNCTION\" in self.TX:\n",
      "            file_handle.write(\"Gene Function: \" + self.TX[\"GENE FUNCTION\"] + \"<br>\")\n",
      "        "
     ],
     "language": "python",
     "metadata": {},
     "outputs": [],
     "prompt_number": 74
    },
    {
     "cell_type": "heading",
     "level": 1,
     "metadata": {},
     "source": [
      "The VCF File"
     ]
    },
    {
     "cell_type": "code",
     "collapsed": false,
     "input": [
      "rs_list = pp.create_vcf_rs_list()"
     ],
     "language": "python",
     "metadata": {},
     "outputs": [],
     "prompt_number": 28
    },
    {
     "cell_type": "code",
     "collapsed": false,
     "input": [
      "vcf_df = pd.DataFrame()\n",
      "vcf_df[\"rs_id\"] = rs_list"
     ],
     "language": "python",
     "metadata": {},
     "outputs": [],
     "prompt_number": 29
    },
    {
     "cell_type": "heading",
     "level": 1,
     "metadata": {},
     "source": [
      "The SNP_MIM File"
     ]
    },
    {
     "cell_type": "code",
     "collapsed": false,
     "input": [
      "snp_omim_df = pp.create_rs_omim_df()"
     ],
     "language": "python",
     "metadata": {},
     "outputs": [],
     "prompt_number": 30
    },
    {
     "cell_type": "heading",
     "level": 1,
     "metadata": {},
     "source": [
      "The OMIM File"
     ]
    },
    {
     "cell_type": "code",
     "collapsed": false,
     "input": [
      "omim_dict = pp.create_omim_dict()\n",
      "omim_df = pp.create_omim_df(omim_dict)"
     ],
     "language": "python",
     "metadata": {},
     "outputs": [],
     "prompt_number": 31
    },
    {
     "cell_type": "heading",
     "level": 1,
     "metadata": {},
     "source": [
      "The GeneMap File"
     ]
    },
    {
     "cell_type": "code",
     "collapsed": false,
     "input": [
      "genemap_df = pd.DataFrame.from_csv(\"genemap\", sep = \"|\", header = -1,\\\n",
      "                                   index_col = -1)\n",
      "genemap_df.columns = [\"num\", \"month\", \"day\", \"year\", \"cyto\", \"geneSym\",\\\n",
      "                      \"geneStatus\", \"title\", \"title_cont\", \"mimNum\", \"comments\",\\\n",
      "                      \"comments_cont\",\"disorders\", \"disorders_cont\",\\\n",
      "                      \"disorders_cont2\", \"mouseCorrelate\", \"reference\"]\n",
      "genemap_df = genemap_df[[\"mimNum\", \"geneSym\", \"disorders\", \"disorders_cont\", \"disorders_cont2\"]]\n",
      "genemap_df.reset_index(inplace = True)\n",
      "genemap_df.dropna(subset = [\"mimNum\"], how = \"all\", inplace = True)\n",
      "genemap_df.dropna(subset = [\"disorders\", \"disorders_cont\"], how = \"all\", inplace = True)\n",
      "genemap_df = genemap_df[[\"mimNum\", \"geneSym\", \"disorders\", \"disorders_cont\", \"disorders_cont2\"]]\n",
      "genemap_df[\"mimNum\"] = genemap_df[\"mimNum\"].map(lambda x: str(int(x)))"
     ],
     "language": "python",
     "metadata": {},
     "outputs": [],
     "prompt_number": 32
    },
    {
     "cell_type": "heading",
     "level": 1,
     "metadata": {},
     "source": [
      "1st Merge:"
     ]
    },
    {
     "cell_type": "heading",
     "level": 3,
     "metadata": {},
     "source": [
      "VCF to SNP Omim"
     ]
    },
    {
     "cell_type": "code",
     "collapsed": false,
     "input": [
      "vcf_snp_df = pd.merge(left = vcf_df, right = snp_omim_df,\\\n",
      "                      left_on = \"rs_id\", right_index = True, how = \"right\")\n",
      "vcf_snp_df.dropna(inplace = True, subset = [\"mim_id\"])"
     ],
     "language": "python",
     "metadata": {},
     "outputs": [],
     "prompt_number": 33
    },
    {
     "cell_type": "heading",
     "level": 1,
     "metadata": {},
     "source": [
      "2nd Merge:"
     ]
    },
    {
     "cell_type": "heading",
     "level": 3,
     "metadata": {},
     "source": [
      "vcf_snp to to omim.txt"
     ]
    },
    {
     "cell_type": "code",
     "collapsed": false,
     "input": [
      "vcf_omim_df = pd.merge(left = vcf_snp_df, right = omim_df, left_on = \"mim_id\",\\\n",
      "                      right_on = \"mim_id\", how = \"inner\")"
     ],
     "language": "python",
     "metadata": {},
     "outputs": [],
     "prompt_number": 34
    },
    {
     "cell_type": "code",
     "collapsed": false,
     "input": [
      "vcf_omim_rs_df = vcf_omim_df[[\"mim_id\", \"rs_id\"]]\n",
      "vcf_omim_format_df = vcf_omim_df.drop(\"rs_id\", axis = 1)\n",
      "vcf_omim_format_df = vcf_omim_format_df.drop_duplicates()"
     ],
     "language": "python",
     "metadata": {},
     "outputs": [],
     "prompt_number": 35
    },
    {
     "cell_type": "heading",
     "level": 1,
     "metadata": {},
     "source": [
      "3rd Merge: WORKING"
     ]
    },
    {
     "cell_type": "heading",
     "level": 3,
     "metadata": {},
     "source": [
      "omim.txt to genemap"
     ]
    },
    {
     "cell_type": "code",
     "collapsed": false,
     "input": [
      "vcf_omim_genemap_df = pd.merge(vcf_omim_df, genemap_df, left_on = \"mim_id\", right_on = \"mimNum\", how = \"left\")\n",
      "grouped = vcf_omim_genemap_df.groupby(by = [\"disorders\", \"disorders_cont\", \"disorders_cont2\"])\n",
      "vcf_omim_genemap_df\n",
      "disorders_df = vcf_omim_genemap_df.drop_duplicates(subset = [\"disorders\", \"disorders_cont2\"])\n",
      "#disorders_df[disorders_df[\"r]]"
     ],
     "language": "python",
     "metadata": {},
     "outputs": [],
     "prompt_number": 36
    },
    {
     "cell_type": "heading",
     "level": 1,
     "metadata": {},
     "source": [
      "Grouping: MIM ID's "
     ]
    },
    {
     "cell_type": "heading",
     "level": 6,
     "metadata": {},
     "source": [
      "By grouping mim id's what you can see is how man variations have been found that map over to the same mim id. It \n",
      "could be said that the more variations that are found within a given mim number the more possbilities there are that\n",
      "the person would some severe effect if that gene product is infact involved with some diease. "
     ]
    },
    {
     "cell_type": "code",
     "collapsed": false,
     "input": [
      "mim_id_grouping = disorders_df.groupby(\"mim_id\")\n",
      "vcf_omim_disorders = mim_id_grouping.apply(lambda x: x)\n",
      "vcf_omim_rs_hits = mim_id_grouping[\"rs_id\"].count()\n",
      "vcf_omim_rs_hits = pd.DataFrame(vcf_omim_rs_hits).reset_index()\n",
      "vcf_omim_rs_hits.columns = [\"mim_id\", \"rs_id_count\"]\n",
      "vcf_omim_rs_hits.reset_index()\n",
      "vcf_omim_disorders = pd.merge(vcf_omim_disorders, vcf_omim_rs_hits, left_on = \"mim_id\", right_on = \"mim_id\")\n",
      "vcf_omim_disorders.sort(columns = [\"rs_id_count\"], inplace = True, ascending = True)\n",
      "###vcf_omim_disorders[vcf_omim_disorders[\"rs_id_count\"] > 1]"
     ],
     "language": "python",
     "metadata": {},
     "outputs": [],
     "prompt_number": 37
    },
    {
     "cell_type": "code",
     "collapsed": false,
     "input": [],
     "language": "python",
     "metadata": {},
     "outputs": [],
     "prompt_number": 37
    },
    {
     "cell_type": "code",
     "collapsed": false,
     "input": [],
     "language": "python",
     "metadata": {},
     "outputs": [],
     "prompt_number": 37
    },
    {
     "cell_type": "heading",
     "level": 2,
     "metadata": {},
     "source": [
      "Grouping  rs id's to mim id's"
     ]
    },
    {
     "cell_type": "code",
     "collapsed": false,
     "input": [
      "write_record_file(file_name = \"index.html\")"
     ],
     "language": "python",
     "metadata": {},
     "outputs": [],
     "prompt_number": 85
    },
    {
     "cell_type": "code",
     "collapsed": false,
     "input": [],
     "language": "python",
     "metadata": {},
     "outputs": []
    }
   ],
   "metadata": {}
  }
 ]
}