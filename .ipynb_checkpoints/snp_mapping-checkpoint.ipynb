{
 "metadata": {
  "name": "",
  "signature": "sha256:df5b17b5bce25a06b7ff86f193bf2baac0c7243f0f3862afc791031b08ba8e23"
 },
 "nbformat": 3,
 "nbformat_minor": 0,
 "worksheets": [
  {
   "cells": [
    {
     "cell_type": "code",
     "collapsed": false,
     "input": [
      "import pandas as pd\n",
      "import omim_parsing as op\n",
      "import vcf_parsing as vp"
     ],
     "language": "python",
     "metadata": {},
     "outputs": [],
     "prompt_number": 12
    },
    {
     "cell_type": "heading",
     "level": 1,
     "metadata": {},
     "source": [
      "Merge: VCF to SNP Omim"
     ]
    },
    {
     "cell_type": "code",
     "collapsed": false,
     "input": [
      "vcf_obj = vp.vcf()\n",
      "rs_list = vcf_obj.create_vcf_rs_list()"
     ],
     "language": "python",
     "metadata": {},
     "outputs": [],
     "prompt_number": 13
    },
    {
     "cell_type": "code",
     "collapsed": false,
     "input": [
      "vcf_df = pd.DataFrame()\n",
      "vcf_df[\"rs_id\"] = rs_list"
     ],
     "language": "python",
     "metadata": {},
     "outputs": [],
     "prompt_number": 14
    },
    {
     "cell_type": "code",
     "collapsed": false,
     "input": [
      "snp_omim_df = vp.create_rs_omim_df()\n",
      "vcf_snp_df = pd.merge(left = vcf_df, right = snp_omim_df,\\\n",
      "                      left_on = \"rs_id\", right_index = True, how = \"right\")\n",
      "vcf_snp_df.dropna(inplace = True, subset = [\"mim_id\"])"
     ],
     "language": "python",
     "metadata": {},
     "outputs": [],
     "prompt_number": 15
    },
    {
     "cell_type": "heading",
     "level": 1,
     "metadata": {},
     "source": [
      "Merge: VCF_SNP_OMIM to Omim DB"
     ]
    },
    {
     "cell_type": "code",
     "collapsed": false,
     "input": [
      "omim_obj = op.omim()\n",
      "omim_dict = omim_obj.create_omim_dict()"
     ],
     "language": "python",
     "metadata": {},
     "outputs": [],
     "prompt_number": 16
    },
    {
     "cell_type": "code",
     "collapsed": false,
     "input": [
      "NO_list = list()\n",
      "TI_list = list()\n",
      "TX_list = list()\n",
      "#Filling lists from the omim dictionary to\n",
      "#make a dataframe. \n",
      "for mim_id, fields in omim_dict.items():\n",
      "    NO_list.append(mim_id)\n",
      "    TI_list.append(omim_dict[mim_id][\"TI\"])\n",
      "    if \"TX\" in omim_dict[mim_id].keys():\n",
      "        TX_list.append(omim_dict[mim_id][\"TX\"])\n",
      "    else:\n",
      "        TX_list.append(\"NA\")\n",
      "    \n",
      "omim_df = pd.concat([pd.Series(NO_list), pd.Series(TI_list), pd.Series(TX_list)], axis = 1)\n",
      "omim_df.columns = [\"mim_id\", \"TI\", \"TX\"]"
     ],
     "language": "python",
     "metadata": {},
     "outputs": [],
     "prompt_number": 17
    },
    {
     "cell_type": "code",
     "collapsed": false,
     "input": [
      "vcf_omim_df = pd.merge(left = vcf_snp_df, right = omim_df, left_on = \"mim_id\",\\\n",
      "                      right_on = \"mim_id\", how = \"inner\")\n",
      "vcf_omim_df.to_csv(\"vcf_omim_df.csv\")"
     ],
     "language": "python",
     "metadata": {},
     "outputs": [],
     "prompt_number": 18
    },
    {
     "cell_type": "heading",
     "level": 1,
     "metadata": {},
     "source": [
      "Grouping By MIM ID"
     ]
    },
    {
     "cell_type": "code",
     "collapsed": false,
     "input": [
      "mim_id_grouping = vcf_omim_df.groupby(\"mim_id\")"
     ],
     "language": "python",
     "metadata": {},
     "outputs": [],
     "prompt_number": 19
    },
    {
     "cell_type": "code",
     "collapsed": false,
     "input": [
      "omim_variation_hits = mim_id_grouping[\"rs_id\"].agg(\"count\")\n",
      "omim_variation_hits.sort(ascending = False)\n",
      "omim_variation_hits.to_csv(\"omim_variation_hits.csv\")"
     ],
     "language": "python",
     "metadata": {},
     "outputs": []
    },
    {
     "cell_type": "code",
     "collapsed": false,
     "input": [
      "omim_rs_id_hits = mim_id_grouping[\"rs_id\"].agg(lambda x: x)\n",
      "omim_rs_id_hits.to_csv(\"omim_rs_id_hits.csv\")"
     ],
     "language": "python",
     "metadata": {},
     "outputs": []
    },
    {
     "cell_type": "code",
     "collapsed": false,
     "input": [],
     "language": "python",
     "metadata": {},
     "outputs": []
    }
   ],
   "metadata": {}
  }
 ]
}