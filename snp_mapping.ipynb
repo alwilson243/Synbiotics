{
 "metadata": {
  "name": "",
  "signature": "sha256:ed7638789183c682af44202d20adc76744687306f5e0821450460b7fd02b61d3"
 },
 "nbformat": 3,
 "nbformat_minor": 0,
 "worksheets": [
  {
   "cells": [
    {
     "cell_type": "code",
     "collapsed": false,
     "input": [
      "import pandas as pd\n",
      "import omim_parsing as op\n",
      "import vcf_parsing as vp"
     ],
     "language": "python",
     "metadata": {},
     "outputs": [],
     "prompt_number": 12
    },
    {
     "cell_type": "heading",
     "level": 1,
     "metadata": {},
     "source": [
      "The VCF File"
     ]
    },
    {
     "cell_type": "code",
     "collapsed": false,
     "input": [
      "vcf_obj = vp.vcf()\n",
      "rs_list = vcf_obj.create_vcf_rs_list()"
     ],
     "language": "python",
     "metadata": {},
     "outputs": [],
     "prompt_number": 13
    },
    {
     "cell_type": "code",
     "collapsed": false,
     "input": [
      "vcf_df = pd.DataFrame()\n",
      "vcf_df[\"rs_id\"] = rs_list"
     ],
     "language": "python",
     "metadata": {},
     "outputs": [],
     "prompt_number": 14
    },
    {
     "cell_type": "heading",
     "level": 1,
     "metadata": {},
     "source": [
      "The SNP_MIM File"
     ]
    },
    {
     "cell_type": "code",
     "collapsed": false,
     "input": [
      "snp_omim_df = vp.create_rs_omim_df()"
     ],
     "language": "python",
     "metadata": {},
     "outputs": []
    },
    {
     "cell_type": "heading",
     "level": 1,
     "metadata": {},
     "source": [
      "The OMIM File"
     ]
    },
    {
     "cell_type": "code",
     "collapsed": false,
     "input": [
      "omim_dict = create_omim_dict()\n",
      "omim_df = create_omim_df(omim_dict)"
     ],
     "language": "python",
     "metadata": {},
     "outputs": []
    },
    {
     "cell_type": "heading",
     "level": 1,
     "metadata": {},
     "source": [
      "1st Merge:"
     ]
    },
    {
     "cell_type": "heading",
     "level": 3,
     "metadata": {},
     "source": [
      "VCF to SNP Omim"
     ]
    },
    {
     "cell_type": "code",
     "collapsed": false,
     "input": [
      "vcf_snp_df = pd.merge(left = vcf_df, right = snp_omim_df,\\\n",
      "                      left_on = \"rs_id\", right_index = True, how = \"right\")\n",
      "vcf_snp_df.dropna(inplace = True, subset = [\"mim_id\"])"
     ],
     "language": "python",
     "metadata": {},
     "outputs": [],
     "prompt_number": 15
    },
    {
     "cell_type": "heading",
     "level": 1,
     "metadata": {},
     "source": [
      "2nd Merge:"
     ]
    },
    {
     "cell_type": "heading",
     "level": 3,
     "metadata": {},
     "source": [
      "vcf_snp to to omim.txt"
     ]
    },
    {
     "cell_type": "code",
     "collapsed": false,
     "input": [
      "vcf_omim_df = pd.merge(left = vcf_snp_df, right = omim_df, left_on = \"mim_id\",\\\n",
      "                      right_on = \"mim_id\", how = \"inner\")\n",
      "#vcf_omim_df.to_csv(\"vcf_omim_df.csv\")"
     ],
     "language": "python",
     "metadata": {},
     "outputs": [],
     "prompt_number": 18
    },
    {
     "cell_type": "heading",
     "level": 1,
     "metadata": {},
     "source": [
      "Grouping: MIM ID's "
     ]
    },
    {
     "cell_type": "heading",
     "level": 6,
     "metadata": {},
     "source": [
      "By grouping mim id's what you can see is how man variations have been found that map over to the same mim id. It \n",
      "could be said that the more variations that are found within a given mim number the more possbilities there are that\n",
      "the person would some severe effect if that gene product is infact involved with some diease. "
     ]
    },
    {
     "cell_type": "code",
     "collapsed": false,
     "input": [
      "mim_id_grouping = vcf_omim_df.groupby(\"mim_id\")"
     ],
     "language": "python",
     "metadata": {},
     "outputs": [],
     "prompt_number": 19
    },
    {
     "cell_type": "code",
     "collapsed": false,
     "input": [
      "omim_variation_hits = mim_id_grouping[\"rs_id\"].agg(\"count\")\n",
      "omim_variation_hits.sort(ascending = False)\n",
      "omim_variation_hits.to_csv(\"omim_variation_hits.csv\")"
     ],
     "language": "python",
     "metadata": {},
     "outputs": []
    },
    {
     "cell_type": "code",
     "collapsed": false,
     "input": [
      "omim_rs_id_hits = mim_id_grouping[\"rs_id\"].agg(lambda x: x)\n",
      "omim_rs_id_hits.to_csv(\"omim_rs_id_hits.csv\")"
     ],
     "language": "python",
     "metadata": {},
     "outputs": []
    }
   ],
   "metadata": {}
  }
 ]
}