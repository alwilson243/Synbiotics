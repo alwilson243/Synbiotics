{
 "metadata": {
  "name": "",
  "signature": "sha256:96348289be0c1dd685781eb4e16af39cac86b54e32cddfc7ca63e2a59f88a8af"
 },
 "nbformat": 3,
 "nbformat_minor": 0,
 "worksheets": [
  {
   "cells": [
    {
     "cell_type": "code",
     "collapsed": false,
     "input": [
      "import pandas as pd\n",
      "import promethease_parsing as pp\n",
      "import operator"
     ],
     "language": "python",
     "metadata": {},
     "outputs": [],
     "prompt_number": 106
    },
    {
     "cell_type": "heading",
     "level": 1,
     "metadata": {},
     "source": [
      "The VCF File"
     ]
    },
    {
     "cell_type": "code",
     "collapsed": false,
     "input": [
      "rs_list = pp.create_vcf_rs_list()"
     ],
     "language": "python",
     "metadata": {},
     "outputs": [],
     "prompt_number": 2
    },
    {
     "cell_type": "code",
     "collapsed": false,
     "input": [
      "vcf_df = pd.DataFrame()\n",
      "vcf_df[\"rs_id\"] = rs_list"
     ],
     "language": "python",
     "metadata": {},
     "outputs": [],
     "prompt_number": 3
    },
    {
     "cell_type": "heading",
     "level": 1,
     "metadata": {},
     "source": [
      "The SNP_MIM File"
     ]
    },
    {
     "cell_type": "code",
     "collapsed": false,
     "input": [
      "snp_omim_df = pp.create_rs_omim_df()"
     ],
     "language": "python",
     "metadata": {},
     "outputs": [],
     "prompt_number": 4
    },
    {
     "cell_type": "heading",
     "level": 1,
     "metadata": {},
     "source": [
      "The OMIM File"
     ]
    },
    {
     "cell_type": "code",
     "collapsed": false,
     "input": [
      "omim_dict = pp.create_omim_dict()\n",
      "omim_df = pp.create_omim_df(omim_dict)"
     ],
     "language": "python",
     "metadata": {},
     "outputs": [],
     "prompt_number": 5
    },
    {
     "cell_type": "heading",
     "level": 1,
     "metadata": {},
     "source": [
      "1st Merge:"
     ]
    },
    {
     "cell_type": "heading",
     "level": 3,
     "metadata": {},
     "source": [
      "VCF to SNP Omim"
     ]
    },
    {
     "cell_type": "code",
     "collapsed": false,
     "input": [
      "vcf_snp_df = pd.merge(left = vcf_df, right = snp_omim_df,\\\n",
      "                      left_on = \"rs_id\", right_index = True, how = \"right\")\n",
      "vcf_snp_df.dropna(inplace = True, subset = [\"mim_id\"])"
     ],
     "language": "python",
     "metadata": {},
     "outputs": [],
     "prompt_number": 6
    },
    {
     "cell_type": "heading",
     "level": 1,
     "metadata": {},
     "source": [
      "2nd Merge:"
     ]
    },
    {
     "cell_type": "heading",
     "level": 3,
     "metadata": {},
     "source": [
      "vcf_snp to to omim.txt"
     ]
    },
    {
     "cell_type": "code",
     "collapsed": false,
     "input": [
      "vcf_omim_df = pd.merge(left = vcf_snp_df, right = omim_df, left_on = \"mim_id\",\\\n",
      "                      right_on = \"mim_id\", how = \"inner\")"
     ],
     "language": "python",
     "metadata": {},
     "outputs": [],
     "prompt_number": 7
    },
    {
     "cell_type": "code",
     "collapsed": false,
     "input": [
      "vcf_omim_rs_df = vcf_omim_df[[\"mim_id\", \"rs_id\"]]\n",
      "vcf_omim_format_df = vcf_omim_df.drop(\"rs_id\", axis = 1)\n",
      "vcf_omim_format_df = vcf_omim_format_df.drop_duplicates()"
     ],
     "language": "python",
     "metadata": {},
     "outputs": [],
     "prompt_number": 66
    },
    {
     "cell_type": "heading",
     "level": 1,
     "metadata": {},
     "source": [
      "Grouping: MIM ID's "
     ]
    },
    {
     "cell_type": "heading",
     "level": 6,
     "metadata": {},
     "source": [
      "By grouping mim id's what you can see is how man variations have been found that map over to the same mim id. It \n",
      "could be said that the more variations that are found within a given mim number the more possbilities there are that\n",
      "the person would some severe effect if that gene product is infact involved with some diease. "
     ]
    },
    {
     "cell_type": "code",
     "collapsed": false,
     "input": [
      "Grouping "
     ],
     "language": "python",
     "metadata": {},
     "outputs": []
    },
    {
     "cell_type": "code",
     "collapsed": false,
     "input": [
      "mim_id_grouping = vcf_omim_rs_df.groupby(\"mim_id\")"
     ],
     "language": "python",
     "metadata": {},
     "outputs": [],
     "prompt_number": 83
    },
    {
     "cell_type": "heading",
     "level": 2,
     "metadata": {},
     "source": [
      "Grouping  rs id's to mim id's"
     ]
    },
    {
     "cell_type": "code",
     "collapsed": false,
     "input": [
      "print \"*\" * 125\n",
      "print\n",
      "for i, row in enumerate(vcf_omim_format_df.iterrows()):\n",
      "    if i > 10:\n",
      "        break\n",
      "    mim_id = row[1][\"mim_id\"]\n",
      "    ti = row[1][\"TI\"]\n",
      "    ti = ti.replace(\"*\" + str(mim_id) + \" \", \"\")\n",
      "    ti = ti.replace(\"#\" + str(mim_id) + \" \", \"\")\n",
      "    tx = row[1][\"TX\"]\n",
      "    hits = vcf_omim_rs_hits[mim_id]\n",
      "    tx_dict = pp.create_description_dict(tx)\n",
      "    rs_ids = mim_id_grouping.get_group(mim_id)\n",
      "    rs_ids_format = []\n",
      "    for entry in rs_ids.iterrows():\n",
      "        rs_ids_format.append(entry[1][\"rs_id\"])\n",
      "\n",
      "    print \"MIM Record: {}\".format(mim_id)\n",
      "    print \"MIM Title: {}\".format(ti)\n",
      "    print \"Associated RS ID'S: {}\".format(rs_ids_format)\n",
      "    for field, desc in tx_dict.items():\n",
      "        print\n",
      "        print field + \":\"\n",
      "        print desc\n",
      "        print\n",
      "    print\n",
      "    print \"*\" * 125\n",
      "    print"
     ],
     "language": "python",
     "metadata": {},
     "outputs": [
      {
       "output_type": "stream",
       "stream": "stdout",
       "text": [
        "*****************************************************************************************************************************\n",
        "\n",
        "MIM Record: 607093\n",
        "MIM Title:  5,10-@METHYLENETETRAHYDROFOLATE REDUCTASE; MTHFR\n",
        "Associated RS ID'S: ['1801131', '1801133']\n",
        "\n",
        "GENE FUNCTION\n",
        "Liu et al. (2000) found that most endogenous or transfected SPHK2 activity in human embryonic kidney cells was associated with the cytosolic fraction, while 26% was associated with membranes. Biochemical characterization of recombinant SPHK2 revealed a preference for D-erythro-dihydrosphingosine as substrate and a pH optima of 7.5. Salts, specifically KCl, increased the rate of reaction, in contrast to the inhibition found with SPHK1. The authors also noted some difference in substrate specificity between SPHK2 and SPHK1. Hait et al. (2009) found that SPHK2, one of the isoenzymes that generates S1P, was associated with histone H3 and produced S1P that regulated histone acetylation. S1P specifically bound to the histone deacetylases HDAC1 (601241) and HDAC2 (605164) and inhibited their enzymatic activity, preventing the removal of acetyl groups from lysine residues within histone tails. SPHK2 associated with HDAC1 and HDAC2 in repressor complexes and was selectively enriched at the promoters of the genes encoding the cyclin-dependent kinase inhibitor p21 (116899) or the transcriptional regulator c-fos (164810), where it enhanced local histone H3 acetylation and transcription. Thus, Hait et al. (2009) concluded that HDACs are direct intracellular targets of S1P and link nuclear S1P to epigenetic regulation of gene expression. The International Radiation Hybrid Mapping Consortium mapped the SPHK2 gene to chromosome 19 (TMAP stSG26816). Lymphocytes require sphingosine-1-phosphate (S1P) receptor-1 (S1P1; 601974) to exit lymphoid organs. By using mice in which the 2 kinases that generate S1P, SPHK1 and SPHK2, were conditionally ablated, Pappu et al. (2007) found that plasma S1P is mainly hematopoietic in origin, with erythrocytes as a major contributor, whereas lymph S1P is from a distinct radiation-resistant source. Lymphocyte egress from thymus and secondary lymphoid organs was markedly reduced in kinase-deficient mice. Restoration of S1P to plasma rescued egress to blood but not lymph, and the rescue required lymphocyte expression of S1P1. Thus, Pappu et al. (2007) concluded that separate sources provide S1P to plasma and lymph to help lymphocytes exit the low-S1P environment of lymphoid organs. Pappu et al. (2007) proposed that disruption of compartmentalized S1P signaling is a plausible mechanism by which S1P1 agonists function as immunosuppressives. Camerer et al. (2009) found that mice selectively lacking S1P in plasma (Pappu et al., 2007) exhibited increased vascular leak and impaired survival after anaphylaxis, administration of platelet activating factor (PAF; see 173393) or histamine, or exposure to related inflammatory challenges. Increased leak was associated with increased interendothelial cell gaps in venules and could be reversed by transfusion with wildtype erythrocytes, which restored plasma S1P levels, or by acute treatment with an S1pr1 agonist. S1pr1 agonist did not protect wildtype mice from PAF-induced leak. However, an agonist for Par2 (F2RL1; 600933) protected wildtype mice from PAF-induced leak, and this protection was lost after systemic treatment with pertussis toxin. Camerer et al. (2009) suggested that blood communicates with blood vessels via plasma S1P to maintain vascular integrity. Mizugishi et al. (2007) showed that the sphingolipid metabolic pathway was highly activated in the deciduum of mice during pregnancy and that disturbance of this pathway by disruption of Sphk genes caused defective decidualization with severely compromised uterine blood vessels, leading to early pregnancy loss. Sphk-deficient (Sphk1 -/- Sphk2 +/-) female mice exhibited both an enormous accumulation of dihydrosphingosine and sphingosine and a reduction in phosphatidylethanolamine levels in pregnant uteri. These mice showed increased cell death in decidual cells, decreased cell proliferation in undifferentiated stromal cells, and massive breakage of decidual blood vessels, leading to uterine hemorrhage and early embryonic lethality. Mizugishi et al. (2007) concluded that sphingolipid metabolism regulates proper uterine decidualization and blood vessel stability.\n",
        "\n",
        "\n",
        "*****************************************************************************************************************************\n",
        "\n",
        "MIM Record: 230000\n",
        "MIM Title:  FUCOSIDOSIS ;;ALPHA-L-FUCOSIDASE DEFICIENCY\n",
        "Associated RS ID'S: ['13551']\n",
        "\n",
        "*****************************************************************************************************************************\n",
        "\n",
        "MIM Record: 159530\n",
        "MIM Title:  MYELOPROLIFERATIVE LEUKEMIA VIRUS ONCOGENE; MPL ;;THROMBOPOIETIN RECEPTOR; TPOR;; MYELOPROLIFERATIVE LEUKEMIA VIRUS, MOUSE, HOMOLOG OF; MPLV\n",
        "Associated RS ID'S: ['17292650', '28928908', '28928907']\n",
        "\n",
        "*****************************************************************************************************************************\n",
        "\n",
        "MIM Record: 602935\n",
        "MIM Title:  FATTY ACID AMIDE HYDROLASE; FAAH\n",
        "Associated RS ID'S: ['324420']\n",
        "\n",
        "*****************************************************************************************************************************\n",
        "\n",
        "MIM Record: 604566\n",
        "MIM Title:  ALG6, S. CEREVISIAE, HOMOLOG OF; ALG6\n",
        "Associated RS ID'S: ['4630153']\n",
        "\n",
        "DESCRIPTION\n",
        "By searching EST databases and using low-stringency PCR amplification to screen a human T-lymphocyte cDNA library, Imbach et al. (1999) obtained a complete cDNA encoding the ortholog of S. cerevisiae ALG5. The human ALG5 protein contains 242 amino acids and is 58% similar to yeast ALG5. Northern blot analysis revealed expression of a 1.3-kb ALG5 transcript in pancreas, placenta, liver, heart, brain, kidney, skeletal muscle, and lung. Gross (2014) mapped the ALG5 gene to chromosome 13q13.3 based on an alignment of the ALG5 sequence (GenBank GENBANK AF161498) with the genomic sequence (GRCh37).\n",
        "\n",
        "\n",
        "*****************************************************************************************************************************\n",
        "\n",
        "MIM Record: 601007\n",
        "MIM Title:  LEPTIN RECEPTOR; LEPR ;;OBR\n",
        "Associated RS ID'S: ['1137100', '1137101', '8179183']\n",
        "\n",
        "*****************************************************************************************************************************\n",
        "\n",
        "MIM Record: 274270\n",
        "MIM Title:  DIHYDROPYRIMIDINE DEHYDROGENASE DEFICIENCY ;;DPD DEFICIENCY;; DPYD DEFICIENCY;; THYMINE-URACILURIA, HEREDITARY;; PYRIMIDINEMIA, FAMILIAL 5-@FLUOROURACIL TOXICITY, INCLUDED\n",
        "Associated RS ID'S: ['1801265']\n",
        "\n",
        "*****************************************************************************************************************************\n",
        "\n",
        "MIM Record: 600716\n",
        "MIM Title:  PROTEIN TYROSINE PHOSPHATASE, NONRECEPTOR-TYPE, 22; PTPN22 ;;PEST-DOMAIN PHOSPHATASE; PEP;; LYMPHOID PHOSPHATASE; LYP;; PROTEIN-TYROSINE PHOSPHATASE, NONRECEPTOR-TYPE 8, FORMERLY; PTPN8, FORMERLY\n",
        "Associated RS ID'S: ['2476601']\n",
        "\n",
        "GENE FUNCTION\n",
        "Benner et al. (2013) demonstrated in mice that subventricular zone (SVZ)-generated astrocytes express high levels of the secreted homopentameric glycoprotein Thbs4, in contrast to cortical astrocytes, which express low levels of Thbs4. Benner et al. (2013) found that localized photothrombotic/ischemic cortical injury initiates a marked increase in Thbs4(hi) astrocyte production from the postnatal SVZ niche. Tamoxifen-inducible nestin-creER(tm)4 lineage tracing demonstrated that it is these SVZ-generated Thbs4(hi) astrocytes, and not doublecortin (300121)-positive neuroblasts (also generated within the SVZ), that home in on the injured cortex. This robust postinjury astrogenic response required SVZ Notch (190198) activation modulated by Thbs4 via direct Notch1 receptor binding and endocytosis to activate downstream signals, including increased Nfia (600727) transcription factor expression important for glia production. Consequently, Thbs4 homozygous knockout mice showed severe defects in cortical injury-induced SVZ astrogenesis, instead producing cells expressing doublecortin migrating from SVZ to the injury sites. These alterations in cellular responses resulted in abnormal glial scar formation after injury, and significantly increased microvascular hemorrhage into the brain parenchyma of Thbs4-null mice. Taken together, Benner et al. (2013) concluded that their findings have important implications for postinjury applications of endogenous and transplanted NSCs in the therapeutic setting, as well as disease states where Thbs family members have important roles. The International Radiation Hybrid Mapping Consortium mapped the THBS4 gene to chromosome 5 (TMAP SHGC-12514). McCarthy et al. (2004) analyzed 210 polymorphisms in 111 candidate genes in 352 white subjects with familial premature coronary heart disease and 418 white controls, and found the strongest association with an ala387-to-pro (A387P) variant in THBS4 (p = 0.002). Eumycetoma is a tumorous fungal infection, typically of the hands or feet, characterized by the infiltration of large numbers of neutrophils. It is caused by Madurella mycetomatis, a pathogen that is abundant in the soil and on the vegetation of Sudan, where the disease is common. Van de Sande et al. (2007) noted that ELISA has shown near universal IgG seropositivity in mycetoma patients and controls from endemic areas, but no seropositivity in European controls, implying that most individuals in endemic areas are exposed to the pathogen, but only a small percentage develop disease. Van de Sande et al. (2007) studied 11 SNPs in genes involved in neutrophil function in 125 Sudanese mycetoma patients and 140 ethnically and geographically matched controls and found significant differences in allele distributions for SNPs in IL8 (146930), IL8RB (146928), TSP4, NOS2 (163730), and CR1 (120620). Serum IL8 was significantly higher in patients compared with controls, while nitrite/nitrate levels were lower in patients and seemed to be associated with delayed wound healing. Van de Sande et al. (2007) concluded that there is a genetic predisposition toward susceptibility to mycetoma.\n",
        "\n",
        "\n",
        "DESCRIPTION\n",
        "Thrombospondin 4 (THBS4) was originally identified from a Xenopus stage 45 cDNA library. Lawler et al. (1995) isolated a cDNA for the human THBS4 gene (which they called TSP4) from a heart expression library. Overall, the 961-amino acid predicted protein is 73% identical to the X. laevis sequence; however, the C-terminal 220 residues are over 92% identical. The TSP4 mRNA is approximately 3.4 kb. In contrast to thrombospondin-4 of Xenopus laevis, the human protein contains an RGD (arg-gly-asp) cell-binding sequence in the third type 3 repeat. Transfection of mouse NIH 3T3 fibroblasts or C2C12 myoblasts with a full-length human thrombospondin-4 cDNA resulted in the expression of a polypeptide with a reduced molecular weight of 140,000. In the absence of reducing agent, the expressed protein had an apparent molecular weight of 550,000. Lawler et al. (1995) purified recombinant thrombospondin-4 from the culture supernatant. Electron microscopy indicated that it is composed of 5 subunits with globular domains at each end. Thus, they concluded that thrombospondin-4 is a pentameric protein that binds to heparin and calcium.\n",
        "\n",
        "\n",
        "*****************************************************************************************************************************\n",
        "\n",
        "MIM Record: 191523"
       ]
      },
      {
       "output_type": "stream",
       "stream": "stdout",
       "text": [
        "\n",
        "MIM Title:  UPSTREAM STIMULATORY FACTOR 1; USF1 ;;MAJOR LATE TRANSCRIPTION FACTOR; MLTF\n",
        "Associated RS ID'S: ['3737787', '2073658']\n",
        "\n",
        "*****************************************************************************************************************************\n",
        "\n",
        "MIM Record: 227400\n",
        "MIM Title:  FACTOR V DEFICIENCY ;;PARAHEMOPHILIA;; OWREN PARAHEMOPHILIA;; LABILE FACTOR DEFICIENCY\n",
        "Associated RS ID'S: ['6025']\n",
        "\n",
        "CLINICAL FEATURES\n",
        "and affected sibs in the families with an Aarskog-like syndrome reported by Teebi et al. (1988) and Teebi and Al Awadi (1991) suggested autosomal recessive inheritance. In a Chinese family with an Aarskog-like syndrome, Xu et al. (2010) excluded the FGD1 gene (300546), which is mutated in X-linked Aarskog syndrome, as a candidate for the disorder by linkage and sequence analysis. The occurrence of male-to-male transmission suggested autosomal dominant inheritance (see 100050), but autosomal recessive inheritance could not be excluded because affected members were born to consanguineous parents; in addition, because the family originated from a small geographic area, it was possible that seemingly unrelated parents were carriers due to a founder effect.\n",
        "\n",
        "\n",
        "*****************************************************************************************************************************\n",
        "\n",
        "MIM Record: 173610\n",
        "MIM Title:  SELECTIN P; SELP ;;PLATELET ALPHA-GRANULE MEMBRANE PROTEIN;; CD62;; GRANULOCYTE MEMBRANE PROTEIN; GRMP;; GMP140;; P-SELECTIN\n",
        "Associated RS ID'S: ['6133']\n",
        "\n",
        "DESCRIPTION\n",
        "Birt-Hogg-Dube syndrome (BHD; 135150) is an allelic disorder characterized by spontaneous pneumothorax, as well as fibrofolliculomas of the skin and increased risk of renal and colonic tumors. Gunji et al. (2007) suggested that isolated primary spontaneous pneumothorax associated with FLCN mutations may be part of the clinical spectrum of BHD, showing incomplete disease penetrance. Spontaneous pneumothorax is a complication of certain heritable disorders of connective tissue, particularly the Marfan syndrome (154700) and the Ehlers-Danlos syndrome (see, e.g., 130000). Pulmonary bullae can also occur with alpha-1-antitrypsin deficiency (613490).\n",
        "\n",
        "\n",
        "CLINICAL FEATURES\n",
        "Brock (1948) observed recurrent and chronic spontaneous pneumothorax and suggested that hereditary lung cysts were the anatomic substrate. Berlin (1950) and Boyd (1957) observed familial occurrence of spontaneous pneumothorax in patients without other stigmata of connective tissue disease. Stephenson (1976) discussed an association between spontaneous pneumothorax and apical bullae, apical scars, and sharpness of the inner border of the first or second ribs. Leman and Dines (1973) described a family in which 4 members, a man and 3 daughters, including identical twins, had recurrent spontaneous pneumothorax. Wilson and Aylsworth (1979) described unilateral pneumothorax in a newborn whose maternal grandmother and 2 maternal uncles had had pneumothorax; 1 maternal uncle died at age 2 months of bilateral pneumothorax. Rashid et al. (1986) described concurrent spontaneous pneumothorax in 71-year-old male twins. Sugiyama et al. (1986) described brothers, aged 18 and 20 years, with spontaneous pneumothorax. Although one of them was said to have had the Walker-Murdoch wrist sign characteristic of the Marfan syndrome (Walker and Murdoch, 1970), he showed no evidence of ectopia lentis or aortic root and mitral valve abnormalities on appropriate studies. Morrison et al. (1998) described a family in which the father and 3 of 6 offspring, 2 sons and 1 daughter had episodes of spontaneous pneumothorax. The age of onset varied by up to 13 years within the family. The father had pneumothorax at the age of 32 years. The older brother, a smoker, had pneumothorax at age 30; the younger brother, a nonsmoker, had 3 episodes of pneumothorax within a period of 1 year. Their sister, a smoker, presented with pneumothorax at the age of 17 years. Examination showed no signs of Marfan syndrome, Ehlers-Danlos syndrome, or other connective tissue disorders. Alpha-1-antitrypsin assays were normal. Chest radiographs showed no bullae, and respiratory function tests, including diffusion studies, were all within normal limits. Gunji et al. (2007) reported 5 unrelated patients with multiple lung cysts and recurrent spontaneous pneumothorax. The mean age at onset of first pneumothorax was 30.4 years; none of the patients had skin or renal features. All patient reported a family history of the condition. In 1 family, the proband and his affected brother inherited the disorder from their mother, who did not have pneumothorax by age 56 but did have multiple pulmonary cysts on CT scan. A sister of the mother was reportedly affected. A second family had 9 affected members, and the proband's paternal aunt had pneumothorax and renal cancer. Gunji et al. (2007) suggested that isolated pulmonary cysts and pneumothorax may be a milder form of BHD syndrome and that patients should be monitored for renal or skin lesions. Primary spontaneous pneumothorax caused by mutations in the FLCN gene is inherited in an autosomal dominant pattern (Gunji et al., 2007). Abolnik et al. (1991) did a retrospective family survey of pneumothorax in males who had served in the Israeli Defense Forces; 286 persons with primary spontaneous pneumothorax were investigated. In 33, a family history of pneumothorax was obtained. Autosomal dominant inheritance with reduced penetrance in females was suggested by many of the pedigrees in the literature and in this study. X-linked inheritance was suggested by 11 pedigrees: in 4 families, the affected males were born to unaffected parents and were related through healthy women; in 7 families, only brothers were affected while both parents were normal. However, this pedigree pattern could also have resulted from reduced penetrance in females. The affected family reported by Morrison et al. (1998) showed true autosomal dominant inheritance. By a genomewide scan in a large Finnish family with a dominantly inherited tendency to primary spontaneous pneumothorax, Painter et al. (2005) found linkage of PSP to chromosome 17p11. In affected members of a large Finnish family with autosomal dominant spontaneous pneumothorax, Painter et al. (2005) identified a heterozygous 4-bp deletion in the FLCN gene (607273.0009). All carriers of the deletion had bullous lung lesions as the only manifestation with 100% penetrance. Because of the strong association between primary spontaneous pneumothorax and the Birt-Hogg-Dube syndrome, Painter et al. (2005) suggested that patients with familial PSP may be at greater risk of developing renal cancer. In 5 of 8 patients with multiple lung cysts and recurrent spontaneous pneumothorax, Gunji et al. (2007) identified heterozygous mutations in the FLCN gene (see, e.g., 607273.0001; 607273.0010; 607273.0011). In 10 of 102 Chinese probands with spontaneous pneumothorax, Ren et al. (2008) identified 4 different mutations in the FLCN gene (see, e.g., 607273.0001; 607272.0012-607272.0013). Although only 5 of the probands reported a family history of the disorder, genetic analysis showed that 8 of the probands had family members with pneumothorax or pulmonary cysts as determined by imaging studies. Two mutation carriers from 2 different families did not have pulmonary cysts. The findings indicated reduced penetrance of both the pneumothorax phenotype and the cyst phenotype. Kunogi et al. (2010) screened the FLCN gene by DHPLC in 36 Japanese patients with multiple lung cysts of undetermined causes, all but 1 of whom had suffered at least 1 pneumothorax, and identified 13 different germline mutations in 23 of the patients, respectively. The remaining 13 patients were further analyzed by quantitative PCR, and large genomic deletions were found in 2 (see, e.g., 607273.0017); thus 25 (69.4%) of the 36 patients had germline FLCN mutations. Only 6 of the mutation-positive patients had skin lesions, and 2 others had renal tumors, 1 of which was an angiomyolipoma and the other a renal cancer (histopathologic information unavailable). Kunogi et al. (2010) noted that 13 (52%) of the 25 mutations were located in the 3-prime end of the FLCN gene, and that these Japanese patients with FLCN mutations had a very low incidence of skin and renal involvement.\n",
        "\n",
        "\n",
        "*****************************************************************************************************************************\n",
        "\n"
       ]
      }
     ],
     "prompt_number": 108
    },
    {
     "cell_type": "code",
     "collapsed": false,
     "input": [],
     "language": "python",
     "metadata": {},
     "outputs": [
      {
       "metadata": {},
       "output_type": "pyout",
       "prompt_number": 101,
       "text": [
        "'hi bye'"
       ]
      }
     ],
     "prompt_number": 101
    },
    {
     "cell_type": "code",
     "collapsed": false,
     "input": [],
     "language": "python",
     "metadata": {},
     "outputs": []
    }
   ],
   "metadata": {}
  }
 ]
}